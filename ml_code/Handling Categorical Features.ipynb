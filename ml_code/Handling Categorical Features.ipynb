{
 "cells": [
  {
   "cell_type": "code",
   "execution_count": 1,
   "id": "ba06b4fe-98c9-4881-be7e-911d659d9cc2",
   "metadata": {},
   "outputs": [],
   "source": [
    "# One Hot Encoding"
   ]
  },
  {
   "cell_type": "code",
   "execution_count": 10,
   "id": "dca88979-f437-45a0-a186-93730d5ed8f0",
   "metadata": {},
   "outputs": [
    {
     "name": "stdout",
     "output_type": "stream",
     "text": [
      "   color_blue  color_green  color_red\n",
      "0         0.0          0.0        1.0\n",
      "1         1.0          0.0        0.0\n",
      "2         0.0          1.0        0.0\n",
      "3         0.0          1.0        0.0\n",
      "4         0.0          0.0        1.0\n"
     ]
    }
   ],
   "source": [
    "import pandas as pd\n",
    "from sklearn.preprocessing import OneHotEncoder\n",
    "\n",
    "df = pd.DataFrame({'color': ['red', 'blue', 'green', 'green', 'red']})\n",
    "encoder = OneHotEncoder()\n",
    "\n",
    "df_enc = encoder.fit_transform(df[['color']])\n",
    "\n",
    "encoded_df = pd.DataFrame(df_enc.toarray(), columns=encoder.get_feature_names_out(['color']))\n",
    "\n",
    "print(encoded_df)"
   ]
  },
  {
   "cell_type": "code",
   "execution_count": 11,
   "id": "7c6c17d9-ec4a-42ba-9ca9-27497b917af0",
   "metadata": {},
   "outputs": [],
   "source": [
    "# Ordinal Encoding"
   ]
  },
  {
   "cell_type": "code",
   "execution_count": 18,
   "id": "38054aaa-988f-41d6-a2b3-a2355bd81176",
   "metadata": {},
   "outputs": [
    {
     "name": "stdout",
     "output_type": "stream",
     "text": [
      "     size  size_encoded\n",
      "0   small           0.0\n",
      "1  medium           1.0\n",
      "2   large           2.0\n",
      "3  medium           1.0\n",
      "4   small           0.0\n"
     ]
    }
   ],
   "source": [
    "from sklearn.preprocessing import OrdinalEncoder\n",
    "\n",
    "df = pd.DataFrame({'size': [ 'small', 'medium', 'large', 'medium', 'small']})\n",
    "\n",
    "encoder = OrdinalEncoder(categories=[['small','medium','large']])\n",
    "\n",
    "df['size_encoded'] = encoder.fit_transform(df[['size']])\n",
    "\n",
    "print(df)"
   ]
  },
  {
   "cell_type": "code",
   "execution_count": 19,
   "id": "d0d8de0f-02e4-41d2-bae0-2b6e654ba42b",
   "metadata": {},
   "outputs": [],
   "source": [
    "# Target Encoding"
   ]
  },
  {
   "cell_type": "code",
   "execution_count": 20,
   "id": "d1b57a5b-24df-44b8-aac7-b877a690cfb2",
   "metadata": {},
   "outputs": [
    {
     "data": {
      "text/html": [
       "<div>\n",
       "<style scoped>\n",
       "    .dataframe tbody tr th:only-of-type {\n",
       "        vertical-align: middle;\n",
       "    }\n",
       "\n",
       "    .dataframe tbody tr th {\n",
       "        vertical-align: top;\n",
       "    }\n",
       "\n",
       "    .dataframe thead th {\n",
       "        text-align: right;\n",
       "    }\n",
       "</style>\n",
       "<table border=\"1\" class=\"dataframe\">\n",
       "  <thead>\n",
       "    <tr style=\"text-align: right;\">\n",
       "      <th></th>\n",
       "      <th>country</th>\n",
       "      <th>target</th>\n",
       "    </tr>\n",
       "  </thead>\n",
       "  <tbody>\n",
       "    <tr>\n",
       "      <th>0</th>\n",
       "      <td>USA</td>\n",
       "      <td>1</td>\n",
       "    </tr>\n",
       "    <tr>\n",
       "      <th>1</th>\n",
       "      <td>Canada</td>\n",
       "      <td>0</td>\n",
       "    </tr>\n",
       "    <tr>\n",
       "      <th>2</th>\n",
       "      <td>USA</td>\n",
       "      <td>1</td>\n",
       "    </tr>\n",
       "    <tr>\n",
       "      <th>3</th>\n",
       "      <td>Canada</td>\n",
       "      <td>0</td>\n",
       "    </tr>\n",
       "    <tr>\n",
       "      <th>4</th>\n",
       "      <td>USA</td>\n",
       "      <td>1</td>\n",
       "    </tr>\n",
       "  </tbody>\n",
       "</table>\n",
       "</div>"
      ],
      "text/plain": [
       "  country  target\n",
       "0     USA       1\n",
       "1  Canada       0\n",
       "2     USA       1\n",
       "3  Canada       0\n",
       "4     USA       1"
      ]
     },
     "execution_count": 20,
     "metadata": {},
     "output_type": "execute_result"
    }
   ],
   "source": [
    "import pandas as pd\n",
    "\n",
    "df = pd.DataFrame({\n",
    "    'country': ['USA', 'Canada', 'USA', 'Canada', 'USA'],\n",
    "    'target': [1, 0, 1, 0, 1]\n",
    "})\n",
    "df"
   ]
  },
  {
   "cell_type": "code",
   "execution_count": 21,
   "id": "fef35669-cdf2-4af5-aa86-3522f7ea7f7e",
   "metadata": {},
   "outputs": [
    {
     "name": "stdout",
     "output_type": "stream",
     "text": [
      "  country  target_mean\n",
      "0     USA          1.0\n",
      "1  Canada          0.0\n",
      "2     USA          1.0\n",
      "3  Canada          0.0\n",
      "4     USA          1.0\n"
     ]
    }
   ],
   "source": [
    "mean_target = df.groupby('country')['target'].mean().reset_index()\n",
    "\n",
    "df = df.merge(mean_target, on='country', suffixes=('','_mean'))\n",
    "\n",
    "df.drop('target', axis=1, inplace=True)\n",
    "\n",
    "print(df)"
   ]
  },
  {
   "cell_type": "code",
   "execution_count": null,
   "id": "f0eb1448-ed7d-4dbd-9bc3-e09240a2bc76",
   "metadata": {},
   "outputs": [],
   "source": []
  }
 ],
 "metadata": {
  "kernelspec": {
   "display_name": "Python 3 (ipykernel)",
   "language": "python",
   "name": "python3"
  },
  "language_info": {
   "codemirror_mode": {
    "name": "ipython",
    "version": 3
   },
   "file_extension": ".py",
   "mimetype": "text/x-python",
   "name": "python",
   "nbconvert_exporter": "python",
   "pygments_lexer": "ipython3",
   "version": "3.12.4"
  }
 },
 "nbformat": 4,
 "nbformat_minor": 5
}
