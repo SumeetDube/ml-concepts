{
 "cells": [
  {
   "cell_type": "code",
   "execution_count": 1,
   "id": "c89a9467-a6c4-422d-9e68-19cacaa3aa88",
   "metadata": {},
   "outputs": [
    {
     "name": "stdout",
     "output_type": "stream",
     "text": [
      "Requirement already satisfied: catboost in /home/sumeet/code/MachineLearningProjects/lib/python3.12/site-packages (1.2.5)\n",
      "Requirement already satisfied: graphviz in /home/sumeet/code/MachineLearningProjects/lib/python3.12/site-packages (from catboost) (0.20.3)\n",
      "Requirement already satisfied: matplotlib in /home/sumeet/code/MachineLearningProjects/lib/python3.12/site-packages (from catboost) (3.9.0)\n",
      "Requirement already satisfied: numpy>=1.16.0 in /home/sumeet/code/MachineLearningProjects/lib/python3.12/site-packages (from catboost) (1.26.4)\n",
      "Requirement already satisfied: pandas>=0.24 in /home/sumeet/code/MachineLearningProjects/lib/python3.12/site-packages (from catboost) (2.2.2)\n",
      "Requirement already satisfied: scipy in /home/sumeet/code/MachineLearningProjects/lib/python3.12/site-packages (from catboost) (1.13.1)\n",
      "Requirement already satisfied: plotly in /home/sumeet/code/MachineLearningProjects/lib/python3.12/site-packages (from catboost) (5.23.0)\n",
      "Requirement already satisfied: six in /home/sumeet/code/MachineLearningProjects/lib/python3.12/site-packages (from catboost) (1.16.0)\n",
      "Requirement already satisfied: python-dateutil>=2.8.2 in /home/sumeet/code/MachineLearningProjects/lib/python3.12/site-packages (from pandas>=0.24->catboost) (2.9.0.post0)\n",
      "Requirement already satisfied: pytz>=2020.1 in /home/sumeet/code/MachineLearningProjects/lib/python3.12/site-packages (from pandas>=0.24->catboost) (2024.1)\n",
      "Requirement already satisfied: tzdata>=2022.7 in /home/sumeet/code/MachineLearningProjects/lib/python3.12/site-packages (from pandas>=0.24->catboost) (2024.1)\n",
      "Requirement already satisfied: contourpy>=1.0.1 in /home/sumeet/code/MachineLearningProjects/lib/python3.12/site-packages (from matplotlib->catboost) (1.2.1)\n",
      "Requirement already satisfied: cycler>=0.10 in /home/sumeet/code/MachineLearningProjects/lib/python3.12/site-packages (from matplotlib->catboost) (0.12.1)\n",
      "Requirement already satisfied: fonttools>=4.22.0 in /home/sumeet/code/MachineLearningProjects/lib/python3.12/site-packages (from matplotlib->catboost) (4.51.0)\n",
      "Requirement already satisfied: kiwisolver>=1.3.1 in /home/sumeet/code/MachineLearningProjects/lib/python3.12/site-packages (from matplotlib->catboost) (1.4.5)\n",
      "Requirement already satisfied: packaging>=20.0 in /home/sumeet/code/MachineLearningProjects/lib/python3.12/site-packages (from matplotlib->catboost) (24.0)\n",
      "Requirement already satisfied: pillow>=8 in /home/sumeet/code/MachineLearningProjects/lib/python3.12/site-packages (from matplotlib->catboost) (10.1.0)\n",
      "Requirement already satisfied: pyparsing>=2.3.1 in /home/sumeet/code/MachineLearningProjects/lib/python3.12/site-packages (from matplotlib->catboost) (3.1.2)\n",
      "Requirement already satisfied: tenacity>=6.2.0 in /home/sumeet/code/MachineLearningProjects/lib/python3.12/site-packages (from plotly->catboost) (9.0.0)\n",
      "\n",
      "\u001b[1m[\u001b[0m\u001b[34;49mnotice\u001b[0m\u001b[1;39;49m]\u001b[0m\u001b[39;49m A new release of pip is available: \u001b[0m\u001b[31;49m24.1.2\u001b[0m\u001b[39;49m -> \u001b[0m\u001b[32;49m24.2\u001b[0m\n",
      "\u001b[1m[\u001b[0m\u001b[34;49mnotice\u001b[0m\u001b[1;39;49m]\u001b[0m\u001b[39;49m To update, run: \u001b[0m\u001b[32;49mpip install --upgrade pip\u001b[0m\n"
     ]
    }
   ],
   "source": [
    "!pip install catboost"
   ]
  },
  {
   "cell_type": "code",
   "execution_count": 1,
   "id": "6edf49bb-df3d-4327-b976-49df78f06935",
   "metadata": {},
   "outputs": [],
   "source": [
    "from catboost import CatBoostRegressor"
   ]
  },
  {
   "cell_type": "code",
   "execution_count": 11,
   "id": "9d1e8fe5-491b-4a94-a2a3-4ea96b19de25",
   "metadata": {},
   "outputs": [],
   "source": [
    "train_data = [[1,4,5,6],[4,5,6,7],[30,40,50,60]]\n",
    "train_labels = [10,20,30]"
   ]
  },
  {
   "cell_type": "code",
   "execution_count": 12,
   "id": "ad7c77f1-0d3a-477c-9526-0cdaaf21dad3",
   "metadata": {},
   "outputs": [],
   "source": [
    "model = CatBoostRegressor(iterations=2, learning_rate=1, depth=2)"
   ]
  },
  {
   "cell_type": "code",
   "execution_count": 13,
   "id": "62441024-383b-459c-af36-4362ef357882",
   "metadata": {},
   "outputs": [
    {
     "name": "stdout",
     "output_type": "stream",
     "text": [
      "0:\tlearn: 6.1237244\ttotal: 46.4ms\tremaining: 46.4ms\n",
      "1:\tlearn: 4.5927933\ttotal: 46.7ms\tremaining: 0us\n"
     ]
    },
    {
     "data": {
      "text/plain": [
       "<catboost.core.CatBoostRegressor at 0x7482881649e0>"
      ]
     },
     "execution_count": 13,
     "metadata": {},
     "output_type": "execute_result"
    }
   ],
   "source": [
    "model.fit(train_data, train_labels)"
   ]
  },
  {
   "cell_type": "code",
   "execution_count": 14,
   "id": "8052a4dc-6bc0-48d1-a2ef-4056d929db5c",
   "metadata": {},
   "outputs": [
    {
     "name": "stdout",
     "output_type": "stream",
     "text": [
      "[15.625 18.125]\n"
     ]
    }
   ],
   "source": [
    "eval_data = [[2, 4, 6, 8], [1, 4, 50, 60] ]\n",
    "preds = model.predict(eval_data)\n",
    "print(preds)"
   ]
  },
  {
   "cell_type": "markdown",
   "id": "316cc9e2-6e41-4c29-81a3-de10cc7ac1b7",
   "metadata": {},
   "source": [
    "----------------"
   ]
  },
  {
   "cell_type": "code",
   "execution_count": 16,
   "id": "e492ef58-f5b6-4354-812c-32045cc8afe9",
   "metadata": {},
   "outputs": [],
   "source": [
    "# Regression"
   ]
  },
  {
   "cell_type": "code",
   "execution_count": 17,
   "id": "c7e0d0f4-1c79-420d-b49e-0ce25d5bf574",
   "metadata": {},
   "outputs": [],
   "source": [
    "from catboost import CatBoostClassifier"
   ]
  },
  {
   "cell_type": "code",
   "execution_count": 18,
   "id": "bad3947c-935d-425f-945b-9c13682dd41e",
   "metadata": {},
   "outputs": [],
   "source": [
    "train_data = [[\"a\", \"b\", 1, 4, 5, 6],\n",
    "              [\"a\", \"b\", 4, 5, 6, 7],\n",
    "              [\"c\", \"d\", 30, 40, 50, 60]]\n",
    "train_labels = [1, 1, -1]"
   ]
  },
  {
   "cell_type": "code",
   "execution_count": 19,
   "id": "006c1917-4b8a-490f-b288-a022e9b86af3",
   "metadata": {},
   "outputs": [],
   "source": [
    "cat_features = [0,1]"
   ]
  },
  {
   "cell_type": "code",
   "execution_count": 20,
   "id": "e52f2b1e-8396-40c8-b9ae-1b97f8b98805",
   "metadata": {},
   "outputs": [],
   "source": [
    "model = CatBoostClassifier(iterations=2, learning_rate=1, depth=2)"
   ]
  },
  {
   "cell_type": "code",
   "execution_count": 21,
   "id": "51a3f4f9-60f8-42f1-ad96-dd02136ff5f7",
   "metadata": {},
   "outputs": [
    {
     "name": "stdout",
     "output_type": "stream",
     "text": [
      "0:\tlearn: 0.5799547\ttotal: 117us\tremaining: 117us\n",
      "1:\tlearn: 0.4935526\ttotal: 145us\tremaining: 0us\n"
     ]
    },
    {
     "data": {
      "text/plain": [
       "<catboost.core.CatBoostClassifier at 0x748270b34380>"
      ]
     },
     "execution_count": 21,
     "metadata": {},
     "output_type": "execute_result"
    }
   ],
   "source": [
    "model.fit(train_data, train_labels, cat_features)"
   ]
  },
  {
   "cell_type": "code",
   "execution_count": 22,
   "id": "ae108601-2bc6-454b-a93f-a788111893ab",
   "metadata": {},
   "outputs": [
    {
     "name": "stdout",
     "output_type": "stream",
     "text": [
      "[1 1]\n",
      "[[0.37014499 0.62985501]\n",
      " [0.4641579  0.5358421 ]]\n"
     ]
    }
   ],
   "source": [
    "eval_data = [[\"a\", \"b\", 2, 4, 6, 8], [\"a\", \"d\", 1, 4, 50, 60]]\n",
    "preds_class = model.predict(eval_data)\n",
    "preds_proba = model.predict_proba(eval_data)\n",
    "print(preds_class)\n",
    "print(preds_proba)\n"
   ]
  },
  {
   "cell_type": "markdown",
   "id": "ec8807ac-45c1-4a51-baac-dccb2f4b542d",
   "metadata": {},
   "source": [
    "--------------"
   ]
  },
  {
   "cell_type": "code",
   "execution_count": 23,
   "id": "a561ea9d-c8b1-4bdb-b8f2-2f37ec143898",
   "metadata": {},
   "outputs": [],
   "source": [
    "from catboost import Pool, CatBoostClassifier"
   ]
  },
  {
   "cell_type": "code",
   "execution_count": 24,
   "id": "e5550fcb-bb3a-4b9e-9e12-8c547499ebff",
   "metadata": {},
   "outputs": [],
   "source": [
    "train_data = Pool(data=[[1, 4, 5, 6],\n",
    "                         [4, 5, 6, 7],\n",
    "                         [30, 40, 50, 60]],\n",
    "                  label=[1, 1, -1],\n",
    "                  weight=[0.1, 0.2, 0.3])"
   ]
  },
  {
   "cell_type": "code",
   "execution_count": 25,
   "id": "baeb86ab-b18f-4497-a79f-2f759ba38910",
   "metadata": {},
   "outputs": [],
   "source": [
    "model = CatBoostClassifier(iterations=10)"
   ]
  },
  {
   "cell_type": "code",
   "execution_count": 26,
   "id": "6c02a8dd-2a7d-4776-9017-cb48c01fee63",
   "metadata": {},
   "outputs": [
    {
     "name": "stdout",
     "output_type": "stream",
     "text": [
      "Learning rate set to 0.058839\n",
      "0:\tlearn: 0.6879879\ttotal: 67us\tremaining: 606us\n",
      "1:\tlearn: 0.6815359\ttotal: 195us\tremaining: 782us\n",
      "2:\tlearn: 0.6765024\ttotal: 263us\tremaining: 614us\n",
      "3:\tlearn: 0.6715240\ttotal: 452us\tremaining: 678us\n",
      "4:\tlearn: 0.6652874\ttotal: 523us\tremaining: 523us\n",
      "5:\tlearn: 0.6591318\ttotal: 603us\tremaining: 402us\n",
      "6:\tlearn: 0.6543318\ttotal: 628us\tremaining: 269us\n",
      "7:\tlearn: 0.6495883\ttotal: 648us\tremaining: 162us\n",
      "8:\tlearn: 0.6436365\ttotal: 748us\tremaining: 83us\n",
      "9:\tlearn: 0.6377620\ttotal: 783us\tremaining: 0us\n"
     ]
    },
    {
     "data": {
      "text/plain": [
       "<catboost.core.CatBoostClassifier at 0x748270b34410>"
      ]
     },
     "execution_count": 26,
     "metadata": {},
     "output_type": "execute_result"
    }
   ],
   "source": [
    "model.fit(train_data)"
   ]
  },
  {
   "cell_type": "code",
   "execution_count": 27,
   "id": "f4096996-3aac-4534-a020-1a4fcebbf05a",
   "metadata": {},
   "outputs": [],
   "source": [
    "preds_class = model.predict(train_data)"
   ]
  },
  {
   "cell_type": "code",
   "execution_count": 28,
   "id": "5f2ef02f-759b-4fb5-8906-92aedbc2a588",
   "metadata": {},
   "outputs": [
    {
     "name": "stdout",
     "output_type": "stream",
     "text": [
      "[ 1  1 -1]\n"
     ]
    }
   ],
   "source": [
    "print(preds_class)"
   ]
  },
  {
   "cell_type": "code",
   "execution_count": null,
   "id": "9eb06470-727a-4a7f-96b3-74747c5fc583",
   "metadata": {},
   "outputs": [],
   "source": []
  }
 ],
 "metadata": {
  "kernelspec": {
   "display_name": "ml",
   "language": "python",
   "name": "ml"
  },
  "language_info": {
   "codemirror_mode": {
    "name": "ipython",
    "version": 3
   },
   "file_extension": ".py",
   "mimetype": "text/x-python",
   "name": "python",
   "nbconvert_exporter": "python",
   "pygments_lexer": "ipython3",
   "version": "3.12.4"
  }
 },
 "nbformat": 4,
 "nbformat_minor": 5
}
