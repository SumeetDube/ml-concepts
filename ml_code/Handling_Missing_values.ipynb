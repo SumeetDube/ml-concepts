{
 "cells": [
  {
   "cell_type": "markdown",
   "id": "a144dd63-6b34-48d9-94b9-7897bd1bab03",
   "metadata": {},
   "source": [
    "missing_val_count_by_column = (data.isnull().sum())\n",
    "data_without_missing_values = original_data.dropna(axis=1)\n",
    "\n",
    "cols_with_missing = [col for col in original_data.columns if original_data[col].isnull\n",
    "reduced_original_data = original_data.drop(cols_with_missing, axis=1)\n",
    "reduced_test_data = test_data.drop(cols_with_missing, axis=1)\n"
   ]
  },
  {
   "cell_type": "markdown",
   "id": "b34bca91-0555-4ac0-9f75-0220482f4f8a",
   "metadata": {},
   "source": [
    "#### BETTER OPTION"
   ]
  },
  {
   "cell_type": "code",
   "execution_count": 2,
   "id": "fe84bba6-ad0c-4e0c-92a0-eaefbe137f1e",
   "metadata": {},
   "outputs": [
    {
     "ename": "NameError",
     "evalue": "name 'origal_data' is not defined",
     "output_type": "error",
     "traceback": [
      "\u001b[0;31m---------------------------------------------------------------------------\u001b[0m",
      "\u001b[0;31mNameError\u001b[0m                                 Traceback (most recent call last)",
      "Cell \u001b[0;32mIn[2], line 3\u001b[0m\n\u001b[1;32m      1\u001b[0m \u001b[38;5;28;01mfrom\u001b[39;00m \u001b[38;5;21;01msklearn\u001b[39;00m\u001b[38;5;21;01m.\u001b[39;00m\u001b[38;5;21;01mimpute\u001b[39;00m \u001b[38;5;28;01mimport\u001b[39;00m SimpleImputer\n\u001b[1;32m      2\u001b[0m my_imputer \u001b[38;5;241m=\u001b[39m SimpleImputer()\n\u001b[0;32m----> 3\u001b[0m data_with_imputed_values \u001b[38;5;241m=\u001b[39m my_imputer\u001b[38;5;241m.\u001b[39mfit_transform(\u001b[43morigal_data\u001b[49m)\n",
      "\u001b[0;31mNameError\u001b[0m: name 'origal_data' is not defined"
     ]
    }
   ],
   "source": [
    "from sklearn.impute import SimpleImputer\n",
    "my_imputer = SimpleImputer()\n",
    "data_with_imputed_values = my_imputer.fit_transform(origal_data)"
   ]
  },
  {
   "cell_type": "markdown",
   "id": "fad6ee68-5b66-445d-bd33-e201e4633105",
   "metadata": {},
   "source": [
    "# Example "
   ]
  },
  {
   "cell_type": "code",
   "execution_count": 7,
   "id": "f7f55bdf-be29-4d30-9d53-2a481b896514",
   "metadata": {},
   "outputs": [],
   "source": [
    "import pandas as pd\n",
    "# Load data\n",
    "\n",
    "melb_data = pd.read_csv ('dataset/Melbourne/melb_data.csv')\n",
    "\n",
    "from sklearn.ensemble import RandomForestRegressor\n",
    "from sklearn.metrics import mean_absolute_error\n",
    "from sklearn.model_selection import train_test_split\n",
    "\n",
    "melb_target = melb_data.Price\n",
    "melb_pred = melb_data.drop(['Price'],axis=1)\n",
    "\n",
    "melb_numeric_predictors = melb_pred.select_dtypes(exclude=['object'])"
   ]
  },
  {
   "cell_type": "code",
   "execution_count": 16,
   "id": "95f67755-9899-489d-a14e-5d86b4e207f5",
   "metadata": {},
   "outputs": [],
   "source": [
    "from sklearn.ensemble import RandomForestRegressor\n",
    "from sklearn.metrics import mean_absolute_error\n",
    "from sklearn.model_selection import train_test_split\n",
    "\n",
    "X_train,X_test,y_train,y_test = train_test_split(melb_numeric_predictors,melb_target,train_size=0.7,test_size=0.3,random_state=0)\n",
    "\n",
    "def score_dataset(X_train, X_test, y_train, y_test):\n",
    "    model = RandomForestRegressor()\n",
    "    model.fit(X_train, y_train)\n",
    "    preds = model.predict(X_test)\n",
    "    return mean_absolute_error(y_test, preds)"
   ]
  },
  {
   "cell_type": "code",
   "execution_count": 17,
   "id": "352677b1-7be6-4a95-8dfe-6b8a7b4ba1e0",
   "metadata": {},
   "outputs": [
    {
     "name": "stdout",
     "output_type": "stream",
     "text": [
      "181636.32014125583\n"
     ]
    }
   ],
   "source": [
    "# model score for dropping colums with missing values\n",
    "\n",
    "cols_with_missing = [col for col in X_train.columns if X_train[col].isnull().any()]\n",
    "reduced_X_train = X_train.drop(cols_with_missing, axis=1)\n",
    "reduced_X_test = X_test.drop(cols_with_missing, axis=1)\n",
    "print(score_dataset(reduced_X_train,reduced_X_test,y_train,y_test))"
   ]
  },
  {
   "cell_type": "code",
   "execution_count": 21,
   "id": "35374178-a406-493c-a21a-7ef61b8bfa5f",
   "metadata": {},
   "outputs": [
    {
     "name": "stdout",
     "output_type": "stream",
     "text": [
      "MAE: 173344.12185944937\n"
     ]
    }
   ],
   "source": [
    "# Model scuroe for imputtion\n",
    "\n",
    "from sklearn.impute import SimpleImputer\n",
    "\n",
    "my_imputer = SimpleImputer()\n",
    "imputed_x_train = my_imputer.fit_transform(X_train)\n",
    "imputed_x_test = my_imputer.transform(X_test)\n",
    "print(f'MAE: {score_dataset(imputed_x_train,imputed_x_test,y_train,y_test)}')"
   ]
  },
  {
   "cell_type": "code",
   "execution_count": 2,
   "id": "c4b34735-f562-4e12-92ef-83e0e1576c28",
   "metadata": {},
   "outputs": [
    {
     "name": "stdout",
     "output_type": "stream",
     "text": [
      "     A    B    C\n",
      "0  1.0  NaN  1.0\n",
      "1  2.0  2.0  2.0\n",
      "2  NaN  3.0  3.0\n",
      "3  4.0  4.0  NaN\n"
     ]
    },
    {
     "data": {
      "text/html": [
       "<div>\n",
       "<style scoped>\n",
       "    .dataframe tbody tr th:only-of-type {\n",
       "        vertical-align: middle;\n",
       "    }\n",
       "\n",
       "    .dataframe tbody tr th {\n",
       "        vertical-align: top;\n",
       "    }\n",
       "\n",
       "    .dataframe thead th {\n",
       "        text-align: right;\n",
       "    }\n",
       "</style>\n",
       "<table border=\"1\" class=\"dataframe\">\n",
       "  <thead>\n",
       "    <tr style=\"text-align: right;\">\n",
       "      <th></th>\n",
       "      <th>A</th>\n",
       "      <th>B</th>\n",
       "      <th>C</th>\n",
       "    </tr>\n",
       "  </thead>\n",
       "  <tbody>\n",
       "    <tr>\n",
       "      <th>1</th>\n",
       "      <td>2.0</td>\n",
       "      <td>2.0</td>\n",
       "      <td>2.0</td>\n",
       "    </tr>\n",
       "  </tbody>\n",
       "</table>\n",
       "</div>"
      ],
      "text/plain": [
       "     A    B    C\n",
       "1  2.0  2.0  2.0"
      ]
     },
     "execution_count": 2,
     "metadata": {},
     "output_type": "execute_result"
    }
   ],
   "source": [
    "import pandas as pd\n",
    "\n",
    "df = pd.DataFrame({\n",
    "    'A': [ 1, 2, None, 4],\n",
    "    'B': [None, 2,3,4],\n",
    "    'C': [1,2,3,None]})\n",
    "\n",
    "print(df)\n",
    "df_dropped_rows = df.dropna()\n",
    "df_dropped_rows\n",
    "# dropping rows"
   ]
  },
  {
   "cell_type": "code",
   "execution_count": 4,
   "id": "113300b2-8f88-48f0-ac5c-569a916f37dc",
   "metadata": {},
   "outputs": [
    {
     "data": {
      "text/html": [
       "<div>\n",
       "<style scoped>\n",
       "    .dataframe tbody tr th:only-of-type {\n",
       "        vertical-align: middle;\n",
       "    }\n",
       "\n",
       "    .dataframe tbody tr th {\n",
       "        vertical-align: top;\n",
       "    }\n",
       "\n",
       "    .dataframe thead th {\n",
       "        text-align: right;\n",
       "    }\n",
       "</style>\n",
       "<table border=\"1\" class=\"dataframe\">\n",
       "  <thead>\n",
       "    <tr style=\"text-align: right;\">\n",
       "      <th></th>\n",
       "      <th>A</th>\n",
       "    </tr>\n",
       "  </thead>\n",
       "  <tbody>\n",
       "    <tr>\n",
       "      <th>0</th>\n",
       "      <td>1</td>\n",
       "    </tr>\n",
       "    <tr>\n",
       "      <th>1</th>\n",
       "      <td>2</td>\n",
       "    </tr>\n",
       "    <tr>\n",
       "      <th>2</th>\n",
       "      <td>4</td>\n",
       "    </tr>\n",
       "    <tr>\n",
       "      <th>3</th>\n",
       "      <td>4</td>\n",
       "    </tr>\n",
       "  </tbody>\n",
       "</table>\n",
       "</div>"
      ],
      "text/plain": [
       "   A\n",
       "0  1\n",
       "1  2\n",
       "2  4\n",
       "3  4"
      ]
     },
     "execution_count": 4,
     "metadata": {},
     "output_type": "execute_result"
    }
   ],
   "source": [
    "# Dropping columns with missing values \n",
    "\n",
    "df = pd.DataFrame({\n",
    "    'A': [ 1, 2, 4, 4],\n",
    "    'B': [None, 2,3,4],\n",
    "    'C': [1,2,3,None]})\n",
    "df_dropped_cols = df.dropna(axis=1)\n",
    "df_dropped_cols"
   ]
  },
  {
   "cell_type": "code",
   "execution_count": 5,
   "id": "b0646dac-ee0f-4c1d-834e-2b12309b6a1e",
   "metadata": {},
   "outputs": [
    {
     "data": {
      "text/html": [
       "<div>\n",
       "<style scoped>\n",
       "    .dataframe tbody tr th:only-of-type {\n",
       "        vertical-align: middle;\n",
       "    }\n",
       "\n",
       "    .dataframe tbody tr th {\n",
       "        vertical-align: top;\n",
       "    }\n",
       "\n",
       "    .dataframe thead th {\n",
       "        text-align: right;\n",
       "    }\n",
       "</style>\n",
       "<table border=\"1\" class=\"dataframe\">\n",
       "  <thead>\n",
       "    <tr style=\"text-align: right;\">\n",
       "      <th></th>\n",
       "      <th>A</th>\n",
       "      <th>B</th>\n",
       "      <th>C</th>\n",
       "    </tr>\n",
       "  </thead>\n",
       "  <tbody>\n",
       "    <tr>\n",
       "      <th>0</th>\n",
       "      <td>1</td>\n",
       "      <td>3.0</td>\n",
       "      <td>1.0</td>\n",
       "    </tr>\n",
       "    <tr>\n",
       "      <th>1</th>\n",
       "      <td>2</td>\n",
       "      <td>2.0</td>\n",
       "      <td>2.0</td>\n",
       "    </tr>\n",
       "    <tr>\n",
       "      <th>2</th>\n",
       "      <td>4</td>\n",
       "      <td>3.0</td>\n",
       "      <td>3.0</td>\n",
       "    </tr>\n",
       "    <tr>\n",
       "      <th>3</th>\n",
       "      <td>4</td>\n",
       "      <td>4.0</td>\n",
       "      <td>2.0</td>\n",
       "    </tr>\n",
       "  </tbody>\n",
       "</table>\n",
       "</div>"
      ],
      "text/plain": [
       "   A    B    C\n",
       "0  1  3.0  1.0\n",
       "1  2  2.0  2.0\n",
       "2  4  3.0  3.0\n",
       "3  4  4.0  2.0"
      ]
     },
     "execution_count": 5,
     "metadata": {},
     "output_type": "execute_result"
    }
   ],
   "source": [
    "# Imputation Techniques\n",
    "#mean\n",
    "df_mean_imputated = df.fillna(df.mean())\n",
    "df_mean_imputated\n"
   ]
  },
  {
   "cell_type": "code",
   "execution_count": 8,
   "id": "dedb511e-5e05-4cd3-8370-5fc2ec250561",
   "metadata": {},
   "outputs": [
    {
     "name": "stdout",
     "output_type": "stream",
     "text": [
      "   A    B    C\n",
      "0  1  3.0  1.0\n",
      "1  2  2.0  2.0\n",
      "2  4  3.0  3.0\n",
      "3  4  4.0  2.0\n"
     ]
    }
   ],
   "source": [
    "#median\n",
    "print(df.fillna(df.median()))"
   ]
  },
  {
   "cell_type": "code",
   "execution_count": 13,
   "id": "48345dc4-cb7d-4add-94d8-e4019af4a652",
   "metadata": {},
   "outputs": [
    {
     "name": "stdout",
     "output_type": "stream",
     "text": [
      "   A    B    C\n",
      "0  1  2.0  1.0\n",
      "1  2  2.0  2.0\n",
      "2  4  3.0  3.0\n",
      "3  4  4.0  1.0\n"
     ]
    },
    {
     "data": {
      "text/plain": [
       "A    4.0\n",
       "B    4.0\n",
       "C    NaN\n",
       "Name: 3, dtype: float64"
      ]
     },
     "execution_count": 13,
     "metadata": {},
     "output_type": "execute_result"
    }
   ],
   "source": [
    "# mode imputaion for each column\n",
    "df_imputated_mode = df.fillna(df.mode().iloc[0])\n",
    "print(df_imputated_mode)\n",
    "df.iloc[3]# Prints out the specific row\n"
   ]
  },
  {
   "cell_type": "code",
   "execution_count": 11,
   "id": "b036bb79-f0d3-4757-809c-c609fecca7ed",
   "metadata": {},
   "outputs": [
    {
     "name": "stdout",
     "output_type": "stream",
     "text": [
      "     A    B    C\n",
      "0  1.0  NaN  1.0\n",
      "1  2.0  2.0  2.0\n",
      "2  NaN  3.0  3.0\n",
      "3  4.0  4.0  NaN\n",
      "     A    B    C\n",
      "0  1.0  2.5  1.0\n",
      "1  2.0  2.0  2.0\n",
      "2  3.0  3.0  3.0\n",
      "3  4.0  4.0  2.5\n"
     ]
    }
   ],
   "source": [
    "# Knn method\n",
    "import pandas as pd\n",
    "from sklearn.impute import KNNImputer\n",
    "df = pd.DataFrame({\n",
    "    'A': [1, 2, None, 4],\n",
    "    'B': [None, 2, 3, 4],\n",
    "    'C': [1, 2, 3, None]\n",
    "})\n",
    "print(df)\n",
    "knn_imputer = KNNImputer(n_neighbors=2) # Defining the class and passing the constructor parameter\n",
    "df_knn_imputed = pd.DataFrame(knn_imputer.fit_transform(df), columns=df.columns)\n",
    "print(df_knn_imputed) # it returns a dataframe with impued values, colums have to be specified additionally ."
   ]
  },
  {
   "cell_type": "code",
   "execution_count": 13,
   "id": "855c9fab-078b-42dc-a221-2c088f4553f2",
   "metadata": {},
   "outputs": [
    {
     "name": "stdout",
     "output_type": "stream",
     "text": [
      "     A    B    C\n",
      "0  1.0  NaN  1.0\n",
      "1  2.0  2.0  2.0\n",
      "2  NaN  3.0  3.0\n",
      "3  4.0  4.0  NaN\n",
      "     A    B    C\n",
      "0  1.0  NaN  1.0\n",
      "1  2.0  2.0  2.0\n",
      "2  3.0  3.0  3.0\n",
      "3  4.0  4.0  3.0\n"
     ]
    }
   ],
   "source": [
    "#Linear Interpolation\n",
    "print(df)\n",
    "df_interpolated = df.interpolate()\n",
    "print(df_interpolated) # prior value is added "
   ]
  },
  {
   "cell_type": "code",
   "execution_count": 14,
   "id": "ccab3544-632c-4ab7-a437-727158018ae2",
   "metadata": {},
   "outputs": [
    {
     "data": {
      "text/html": [
       "<div>\n",
       "<style scoped>\n",
       "    .dataframe tbody tr th:only-of-type {\n",
       "        vertical-align: middle;\n",
       "    }\n",
       "\n",
       "    .dataframe tbody tr th {\n",
       "        vertical-align: top;\n",
       "    }\n",
       "\n",
       "    .dataframe thead th {\n",
       "        text-align: right;\n",
       "    }\n",
       "</style>\n",
       "<table border=\"1\" class=\"dataframe\">\n",
       "  <thead>\n",
       "    <tr style=\"text-align: right;\">\n",
       "      <th></th>\n",
       "      <th>A</th>\n",
       "      <th>B</th>\n",
       "      <th>C</th>\n",
       "    </tr>\n",
       "  </thead>\n",
       "  <tbody>\n",
       "    <tr>\n",
       "      <th>0</th>\n",
       "      <td>1.0</td>\n",
       "      <td>NaN</td>\n",
       "      <td>1.0</td>\n",
       "    </tr>\n",
       "    <tr>\n",
       "      <th>1</th>\n",
       "      <td>2.0</td>\n",
       "      <td>2.0</td>\n",
       "      <td>2.0</td>\n",
       "    </tr>\n",
       "    <tr>\n",
       "      <th>2</th>\n",
       "      <td>3.0</td>\n",
       "      <td>3.0</td>\n",
       "      <td>3.0</td>\n",
       "    </tr>\n",
       "    <tr>\n",
       "      <th>3</th>\n",
       "      <td>4.0</td>\n",
       "      <td>4.0</td>\n",
       "      <td>4.0</td>\n",
       "    </tr>\n",
       "  </tbody>\n",
       "</table>\n",
       "</div>"
      ],
      "text/plain": [
       "     A    B    C\n",
       "0  1.0  NaN  1.0\n",
       "1  2.0  2.0  2.0\n",
       "2  3.0  3.0  3.0\n",
       "3  4.0  4.0  4.0"
      ]
     },
     "execution_count": 14,
     "metadata": {},
     "output_type": "execute_result"
    }
   ],
   "source": [
    "# Spline Interpolation\n",
    "\n",
    "df_spline_interpolated = df.interpolate(method='spline', order=2)\n",
    "df_spline_interpolated"
   ]
  },
  {
   "cell_type": "code",
   "execution_count": null,
   "id": "135aab9a-74a2-4800-a307-e65c341b2336",
   "metadata": {},
   "outputs": [],
   "source": [
    "#Iterative imputer\n",
    "\n",
    "from sklearn.experimental import enable_iterative_imputer\n",
    "from sklearn.impute import IterativeImputer\n",
    "\n",
    "df = pd.DataFrame({\n",
    "    'A': [1, 2, None, 4],\n",
    "    'B': [None, 2, 3, 4],\n",
    "    'C': [1, 2, 3, None]\n",
    "})\n",
    "\n",
    "iter_imputer = IterativeImputer()\n",
    "df_iter_impute = pd.DataFrame(iter_imputer.fit_transform(df)"
   ]
  },
  {
   "cell_type": "code",
   "execution_count": null,
   "id": "c53ff40b-b574-4e1d-80e8-2c4dcd070d89",
   "metadata": {},
   "outputs": [],
   "source": []
  },
  {
   "cell_type": "code",
   "execution_count": 4,
   "id": "356cabd3-b52e-4868-9720-f1e063b88d29",
   "metadata": {},
   "outputs": [],
   "source": []
  },
  {
   "cell_type": "code",
   "execution_count": null,
   "id": "9d9837bd-c0e5-42a5-82ed-556d0addbfc0",
   "metadata": {},
   "outputs": [],
   "source": []
  },
  {
   "cell_type": "code",
   "execution_count": null,
   "id": "8c7279a9-b1d3-464f-8702-87fa3ae48fa1",
   "metadata": {},
   "outputs": [],
   "source": []
  },
  {
   "cell_type": "code",
   "execution_count": 16,
   "id": "05cc5f32-7df6-4f64-b9a6-d1c44d67299a",
   "metadata": {},
   "outputs": [
    {
     "name": "stderr",
     "output_type": "stream",
     "text": [
      "/home/sumeet/code/MachineLearningProjects/lib/python3.12/site-packages/torchvision/models/_utils.py:208: UserWarning: The parameter 'pretrained' is deprecated since 0.13 and may be removed in the future, please use 'weights' instead.\n",
      "  warnings.warn(\n",
      "/home/sumeet/code/MachineLearningProjects/lib/python3.12/site-packages/torchvision/models/_utils.py:223: UserWarning: Arguments other than a weight enum or `None` for 'weights' are deprecated since 0.13 and may be removed in the future. The current behavior is equivalent to passing `weights=ResNet50_Weights.IMAGENET1K_V1`. You can also use `weights=ResNet50_Weights.DEFAULT` to get the most up-to-date weights.\n",
      "  warnings.warn(msg)\n"
     ]
    }
   ],
   "source": [
    "import torch\n",
    "import torch.nn as nn\n",
    "import torchvision.models as models\n",
    "\n",
    "class FeatureExtractionModel(nn.Module):\n",
    "    def __init__(self, num_classes):\n",
    "        super(FeatureExtractionModel, self).__init__()\n",
    "        \n",
    "        # Backbone network\n",
    "        resnet = models.resnet50(pretrained=True)\n",
    "        \n",
    "        # Define layers to extract intermediate feature maps\n",
    "        self.layer1 = nn.Sequential(*list(resnet.children())[:5])  # Output: C2\n",
    "        self.layer2 = nn.Sequential(*list(resnet.children())[5])   # Output: C3\n",
    "        self.layer3 = nn.Sequential(*list(resnet.children())[6])   # Output: C4\n",
    "        self.layer4 = nn.Sequential(*list(resnet.children())[7])   # Output: C5\n",
    "        \n",
    "        # Feature Pyramid Network (FPN)\n",
    "        self.fpn = FPN(in_channels_list=[256, 512, 1024, 2048], out_channels=256)\n",
    "        \n",
    "        # Classification Head\n",
    "        self.classification_head = nn.Sequential(\n",
    "            nn.AdaptiveAvgPool2d((1, 1)),\n",
    "            nn.Flatten(),\n",
    "            nn.Linear(256, num_classes),\n",
    "            nn.Sigmoid()\n",
    "        )\n",
    "        \n",
    "        # Localization Head\n",
    "        self.localization_head = nn.Sequential(\n",
    "            nn.Conv2d(256, 256, kernel_size=3, stride=1, padding=1),\n",
    "            nn.ReLU(),\n",
    "            nn.Conv2d(256, 4, kernel_size=1)\n",
    "        )\n",
    "        \n",
    "        # Segmentation Head\n",
    "        self.segmentation_head = nn.Sequential(\n",
    "            nn.Conv2d(256, 256, kernel_size=3, stride=1, padding=1),\n",
    "            nn.ReLU(),\n",
    "            nn.ConvTranspose2d(256, 256, kernel_size=2, stride=2),\n",
    "            nn.ReLU(),\n",
    "            nn.Conv2d(256, 1, kernel_size=1),\n",
    "            nn.Sigmoid()\n",
    "        )\n",
    "        \n",
    "    def forward(self, x):\n",
    "        # Extract intermediate feature maps\n",
    "        c2 = self.layer1(x)\n",
    "        c3 = self.layer2(c2)\n",
    "        c4 = self.layer3(c3)\n",
    "        c5 = self.layer4(c4)\n",
    "        \n",
    "        # Apply FPN to get multi-scale features\n",
    "        fpn_outputs = self.fpn([c2, c3, c4, c5])\n",
    "        \n",
    "        # Use the highest level feature map for heads\n",
    "        p4 = fpn_outputs[-1]\n",
    "        \n",
    "        # Classification output\n",
    "        classification_output = self.classification_head(p4)\n",
    "        \n",
    "        # Localization output\n",
    "        localization_output = self.localization_head(p4)\n",
    "        \n",
    "        # Segmentation output\n",
    "        segmentation_output = self.segmentation_head(p4)\n",
    "        \n",
    "        return classification_output, localization_output, segmentation_output\n",
    "\n",
    "class FPN(nn.Module):\n",
    "    def __init__(self, in_channels_list, out_channels):\n",
    "        super(FPN, self).__init__()\n",
    "        self.lateral_convs = nn.ModuleList()\n",
    "        self.fpn_convs = nn.ModuleList()\n",
    "        \n",
    "        for in_channels in in_channels_list:\n",
    "            lateral_conv = nn.Conv2d(in_channels, out_channels, kernel_size=1)\n",
    "            fpn_conv = nn.Conv2d(out_channels, out_channels, kernel_size=3, stride=1, padding=1)\n",
    "            self.lateral_convs.append(lateral_conv)\n",
    "            self.fpn_convs.append(fpn_conv)\n",
    "        \n",
    "    def forward(self, x):\n",
    "        # Build laterals\n",
    "        laterals = [lateral_conv(x[i]) for i, lateral_conv in enumerate(self.lateral_convs)]\n",
    "        \n",
    "        # Build top-down pathway\n",
    "        for i in range(len(laterals) - 1, 0, -1):\n",
    "            laterals[i - 1] += nn.functional.interpolate(laterals[i], scale_factor=2, mode='nearest')\n",
    "        \n",
    "        # Build FPN output\n",
    "        fpn_outputs = [fpn_conv(laterals[i]) for i, fpn_conv in enumerate(self.fpn_convs)]\n",
    "        \n",
    "        return fpn_outputs\n",
    "\n",
    "# Example usage\n",
    "num_classes = 5  # Number of classes for multi-label classification\n",
    "model = FeatureExtractionModel(num_classes=num_classes)\n",
    "input_image = torch.randn(1, 3, 512, 512)  # Example input image\n",
    "classification_output, localization_output, segmentation_output = model(input_image)\n",
    "\n",
    "# Visualization using TensorBoard\n",
    "from torch.utils.tensorboard import SummaryWriter\n",
    "\n",
    "writer = SummaryWriter()\n",
    "writer.add_graph(model, input_image)\n",
    "writer.close()\n"
   ]
  },
  {
   "cell_type": "code",
   "execution_count": null,
   "id": "87b62528-ceab-432b-8266-cfc60b2e12ee",
   "metadata": {},
   "outputs": [],
   "source": []
  },
  {
   "cell_type": "code",
   "execution_count": 11,
   "id": "4b0e8fab-5228-4cfd-aef9-830868f2b8d6",
   "metadata": {},
   "outputs": [
    {
     "data": {
      "text/plain": [
       "'model_architecture.png'"
      ]
     },
     "execution_count": 11,
     "metadata": {},
     "output_type": "execute_result"
    }
   ],
   "source": [
    "from torchviz import make_dot\n",
    "\n",
    "# Example input tensor\n",
    "input_image = torch.randn(1, 3, 512, 512)\n",
    "\n",
    "# Forward pass to get model outputs\n",
    "classification_output, localization_output, segmentation_output = model(input_image)\n",
    "\n",
    "# Create a graph from the output\n",
    "dot = make_dot(classification_output, params=dict(model.named_parameters()))\n",
    "\n",
    "# Save and render the graph\n",
    "dot.render(\"model_architecture\", format=\"png\")\n"
   ]
  },
  {
   "cell_type": "code",
   "execution_count": 14,
   "id": "5e4446f8-068f-47f6-8ecc-cc738f79d420",
   "metadata": {},
   "outputs": [
    {
     "name": "stderr",
     "output_type": "stream",
     "text": [
      "Matplotlib is building the font cache; this may take a moment.\n"
     ]
    },
    {
     "data": {
      "image/png": "[encoded data removed]",
      "text/plain": [
       "<Figure size 640x480 with 1 Axes>"
      ]
     },
     "metadata": {},
     "output_type": "display_data"
    }
   ],
   "source": [
    "from graphviz import Digraph\n",
    "import matplotlib.pyplot as plt\n",
    "\n",
    "# Create a simple graph\n",
    "dot = Digraph()\n",
    "\n",
    "# Add nodes and edges\n",
    "dot.node('Input', 'Input Image')\n",
    "dot.node('ResNet', 'ResNet50 Backbone')\n",
    "dot.node('FPN', 'Feature Pyramid Network')\n",
    "dot.node('Class', 'Classification Head')\n",
    "dot.node('Loc', 'Localization Head')\n",
    "dot.node('Seg', 'Segmentation Head')\n",
    "\n",
    "dot.edges(['IR', 'RF', 'FF', 'FC'])\n",
    "dot.edge('FPN', 'Class', label='Features')\n",
    "dot.edge('FPN', 'Loc', label='Features')\n",
    "dot.edge('FPN', 'Seg', label='Features')\n",
    "\n",
    "# Render the graph\n",
    "dot.render('model_architecture', format='png')\n",
    "\n",
    "# Display the graph\n",
    "img = plt.imread('model_architecture.png')\n",
    "plt.imshow(img)\n",
    "plt.axis('off')\n",
    "plt.show()\n"
   ]
  },
  {
   "cell_type": "code",
   "execution_count": 15,
   "id": "dc27ba59-7589-4d2d-9ba9-7a7b9de95096",
   "metadata": {},
   "outputs": [
    {
     "name": "stdout",
     "output_type": "stream",
     "text": [
      "\u001b[31mERROR: Could not find a version that satisfies the requirement plotneuralnet (from versions: none)\u001b[0m\u001b[31m\n",
      "\u001b[0m\u001b[31mERROR: No matching distribution found for plotneuralnet\u001b[0m\u001b[31m\n",
      "\u001b[0m"
     ]
    }
   ],
   "source": []
  },
  {
   "cell_type": "code",
   "execution_count": 17,
   "id": "584f94e3-7608-4b8f-98fa-39ccea5a06e2",
   "metadata": {},
   "outputs": [
    {
     "ename": "FileNotFoundError",
     "evalue": "[Errno 2] No such file or directory: 'path/to/your/image.jpg'",
     "output_type": "error",
     "traceback": [
      "\u001b[0;31m---------------------------------------------------------------------------\u001b[0m",
      "\u001b[0;31mFileNotFoundError\u001b[0m                         Traceback (most recent call last)",
      "Cell \u001b[0;32mIn[17], line 44\u001b[0m\n\u001b[1;32m     42\u001b[0m \u001b[38;5;66;03m# Load and preprocess an image\u001b[39;00m\n\u001b[1;32m     43\u001b[0m image_path \u001b[38;5;241m=\u001b[39m \u001b[38;5;124m\"\u001b[39m\u001b[38;5;124mpath/to/your/image.jpg\u001b[39m\u001b[38;5;124m\"\u001b[39m\n\u001b[0;32m---> 44\u001b[0m input_image \u001b[38;5;241m=\u001b[39m \u001b[43mload_and_preprocess_image\u001b[49m\u001b[43m(\u001b[49m\u001b[43mimage_path\u001b[49m\u001b[43m)\u001b[49m\n\u001b[1;32m     46\u001b[0m \u001b[38;5;66;03m# Get results\u001b[39;00m\n\u001b[1;32m     47\u001b[0m classification, localization, segmentation \u001b[38;5;241m=\u001b[39m get_model_results(model, input_image)\n",
      "Cell \u001b[0;32mIn[17], line 9\u001b[0m, in \u001b[0;36mload_and_preprocess_image\u001b[0;34m(image_path, target_size)\u001b[0m\n\u001b[1;32m      7\u001b[0m \u001b[38;5;28;01mdef\u001b[39;00m \u001b[38;5;21mload_and_preprocess_image\u001b[39m(image_path, target_size\u001b[38;5;241m=\u001b[39m(\u001b[38;5;241m512\u001b[39m, \u001b[38;5;241m512\u001b[39m)):\n\u001b[1;32m      8\u001b[0m     \u001b[38;5;66;03m# Load the image\u001b[39;00m\n\u001b[0;32m----> 9\u001b[0m     image \u001b[38;5;241m=\u001b[39m \u001b[43mImage\u001b[49m\u001b[38;5;241;43m.\u001b[39;49m\u001b[43mopen\u001b[49m\u001b[43m(\u001b[49m\u001b[43mimage_path\u001b[49m\u001b[43m)\u001b[49m\u001b[38;5;241m.\u001b[39mconvert(\u001b[38;5;124m'\u001b[39m\u001b[38;5;124mRGB\u001b[39m\u001b[38;5;124m'\u001b[39m)\n\u001b[1;32m     11\u001b[0m     \u001b[38;5;66;03m# Define preprocessing steps\u001b[39;00m\n\u001b[1;32m     12\u001b[0m     preprocess \u001b[38;5;241m=\u001b[39m transforms\u001b[38;5;241m.\u001b[39mCompose([\n\u001b[1;32m     13\u001b[0m         transforms\u001b[38;5;241m.\u001b[39mResize(target_size),\n\u001b[1;32m     14\u001b[0m         transforms\u001b[38;5;241m.\u001b[39mToTensor(),\n\u001b[1;32m     15\u001b[0m         transforms\u001b[38;5;241m.\u001b[39mNormalize(mean\u001b[38;5;241m=\u001b[39m[\u001b[38;5;241m0.485\u001b[39m, \u001b[38;5;241m0.456\u001b[39m, \u001b[38;5;241m0.406\u001b[39m], std\u001b[38;5;241m=\u001b[39m[\u001b[38;5;241m0.229\u001b[39m, \u001b[38;5;241m0.224\u001b[39m, \u001b[38;5;241m0.225\u001b[39m]),\n\u001b[1;32m     16\u001b[0m     ])\n",
      "File \u001b[0;32m~/code/MachineLearningProjects/lib/python3.12/site-packages/PIL/Image.py:3243\u001b[0m, in \u001b[0;36mopen\u001b[0;34m(fp, mode, formats)\u001b[0m\n\u001b[1;32m   3240\u001b[0m     filename \u001b[38;5;241m=\u001b[39m fp\n\u001b[1;32m   3242\u001b[0m \u001b[38;5;28;01mif\u001b[39;00m filename:\n\u001b[0;32m-> 3243\u001b[0m     fp \u001b[38;5;241m=\u001b[39m \u001b[43mbuiltins\u001b[49m\u001b[38;5;241;43m.\u001b[39;49m\u001b[43mopen\u001b[49m\u001b[43m(\u001b[49m\u001b[43mfilename\u001b[49m\u001b[43m,\u001b[49m\u001b[43m \u001b[49m\u001b[38;5;124;43m\"\u001b[39;49m\u001b[38;5;124;43mrb\u001b[39;49m\u001b[38;5;124;43m\"\u001b[39;49m\u001b[43m)\u001b[49m\n\u001b[1;32m   3244\u001b[0m     exclusive_fp \u001b[38;5;241m=\u001b[39m \u001b[38;5;28;01mTrue\u001b[39;00m\n\u001b[1;32m   3246\u001b[0m \u001b[38;5;28;01mtry\u001b[39;00m:\n",
      "\u001b[0;31mFileNotFoundError\u001b[0m: [Errno 2] No such file or directory: 'path/to/your/image.jpg'"
     ]
    }
   ],
   "source": []
  },
  {
   "cell_type": "code",
   "execution_count": null,
   "id": "55224f0a-abe5-4bda-99a1-6a9be58fbd32",
   "metadata": {},
   "outputs": [],
   "source": []
  }
 ],
 "metadata": {
  "kernelspec": {
   "display_name": "ml",
   "language": "python",
   "name": "ml"
  },
  "language_info": {
   "codemirror_mode": {
    "name": "ipython",
    "version": 3
   },
   "file_extension": ".py",
   "mimetype": "text/x-python",
   "name": "python",
   "nbconvert_exporter": "python",
   "pygments_lexer": "ipython3",
   "version": "3.12.4"
  }
 },
 "nbformat": 4,
 "nbformat_minor": 5
}
