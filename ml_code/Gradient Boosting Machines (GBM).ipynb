{
 "cells": [
  {
   "cell_type": "code",
   "execution_count": 1,
   "id": "c0eea10d-ec48-4117-b5cd-02c63fd71021",
   "metadata": {},
   "outputs": [],
   "source": [
    "# 1. GradientBoostingClassifier"
   ]
  },
  {
   "cell_type": "code",
   "execution_count": 15,
   "id": "5fbe71c3-4a41-4841-a732-b91cd2b5fc88",
   "metadata": {},
   "outputs": [],
   "source": [
    "from sklearn.datasets import make_classification\n",
    "from sklearn.model_selection import RepeatedStratifiedKFold, GridSearchCV\n",
    "from sklearn.ensemble import GradientBoostingClassifier"
   ]
  },
  {
   "cell_type": "code",
   "execution_count": 16,
   "id": "9a2f8419-b351-4fc3-9f5b-a11a63088d7b",
   "metadata": {},
   "outputs": [],
   "source": [
    "x, y = make_classification(n_samples=1000, n_features = 20, n_informative=15, n_redundant=5, random_state=7)"
   ]
  },
  {
   "cell_type": "code",
   "execution_count": 17,
   "id": "8bee36c3-eeec-4357-9bfa-0f1e36228f0a",
   "metadata": {},
   "outputs": [],
   "source": [
    "model = GradientBoostingClassifier()"
   ]
  },
  {
   "cell_type": "code",
   "execution_count": 18,
   "id": "b39f127f-2182-4895-aa96-efd8527cf6d1",
   "metadata": {},
   "outputs": [],
   "source": [
    "param_grid = {\n",
    "    'n_estimators' : [10, 50, 100, 500],\n",
    "    'learning_rate' : [0.0001, 0.001, 0.01, 0.1, 1.0],\n",
    "    'subsample' : [0.5, 0.7, 1.0],\n",
    "    'max_depth' : [3, 7, 9]\n",
    "}"
   ]
  },
  {
   "cell_type": "code",
   "execution_count": 19,
   "id": "8381bdc4-2163-44c4-8319-6486625a24fa",
   "metadata": {},
   "outputs": [],
   "source": [
    "cv = RepeatedStratifiedKFold(n_splits=10,n_repeats=3,random_state=1)"
   ]
  },
  {
   "cell_type": "code",
   "execution_count": 20,
   "id": "b29b3eb1-f2b5-433d-ab67-640404e202d1",
   "metadata": {},
   "outputs": [],
   "source": [
    "grid_search = GridSearchCV(estimator=model, param_grid=param_grid, n_jobs =-1, cv=cv, scoring='accuracy')"
   ]
  },
  {
   "cell_type": "code",
   "execution_count": 21,
   "id": "d0772731-7ad8-4c55-bb6e-6a8bdfb75558",
   "metadata": {},
   "outputs": [],
   "source": [
    "grid_result = grid_search.fit(x,y)"
   ]
  },
  {
   "cell_type": "code",
   "execution_count": 22,
   "id": "aa0eda25-f4c4-4022-8377-fced45174cec",
   "metadata": {},
   "outputs": [
    {
     "name": "stdout",
     "output_type": "stream",
     "text": [
      "Best: 0.944667 using {'learning_rate': 0.1, 'max_depth': 9, 'n_estimators': 500, 'subsample': 0.7}\n"
     ]
    }
   ],
   "source": [
    "print(\"Best: %f using %s\" % (grid_result.best_score_, grid_result.best_params_))"
   ]
  },
  {
   "cell_type": "markdown",
   "id": "e6d77333-ec28-428a-94ec-c89c1a0130fa",
   "metadata": {},
   "source": [
    "------------------"
   ]
  },
  {
   "cell_type": "markdown",
   "id": "2f743792-f767-416d-b80f-71fc850e3bd2",
   "metadata": {},
   "source": [
    "# Using XGBoost"
   ]
  },
  {
   "cell_type": "code",
   "execution_count": 29,
   "id": "38b947a9-2f76-4296-826d-bc83d4e2c309",
   "metadata": {},
   "outputs": [],
   "source": [
    "import xgboost as xgb\n",
    "from sklearn.datasets import make_classification\n",
    "from sklearn.model_selection import train_test_split"
   ]
  },
  {
   "cell_type": "code",
   "execution_count": 30,
   "id": "40b817ff-5bb2-4aba-93cb-e32baf35563d",
   "metadata": {},
   "outputs": [],
   "source": [
    "x ,y = make_classification(n_samples=1000, n_features=20, n_informative=15, n_redundant=5, random_state=7)\n",
    "x_train, x_test, y_train, y_test = train_test_split(x,y,test_size=0.3, random_state=42)"
   ]
  },
  {
   "cell_type": "code",
   "execution_count": 31,
   "id": "7d4287f3-8411-4e05-a814-7d6903da87d4",
   "metadata": {},
   "outputs": [],
   "source": [
    "dtrain = xgb.DMatrix(x_train,label=y_train)\n",
    "dtest = xgb.DMatrix(x_test, label=y_test)"
   ]
  },
  {
   "cell_type": "code",
   "execution_count": 32,
   "id": "70ed2a34-50b4-4a25-a2f2-6005b6d583fb",
   "metadata": {},
   "outputs": [],
   "source": [
    "params = {\n",
    "    'objective' : 'binary:logistic',\n",
    "    'max_depth' : 3,\n",
    "    'learning_rate': 0.1,\n",
    "    'n_estimators' : 100\n",
    "}"
   ]
  },
  {
   "cell_type": "code",
   "execution_count": 33,
   "id": "0b799d16-d3b5-4460-806d-6ced4a4edd7f",
   "metadata": {},
   "outputs": [
    {
     "name": "stderr",
     "output_type": "stream",
     "text": [
      "/home/sumeet/code/MachineLearningProjects/lib/python3.12/site-packages/xgboost/core.py:158: UserWarning: [02:39:53] WARNING: /workspace/src/learner.cc:740: \n",
      "Parameters: { \"n_estimators\" } are not used.\n",
      "\n",
      "  warnings.warn(smsg, UserWarning)\n"
     ]
    }
   ],
   "source": [
    "model = xgb.train(params, dtrain, num_boost_round=100)"
   ]
  },
  {
   "cell_type": "code",
   "execution_count": 41,
   "id": "f82aadea-4b8e-4233-a723-6ab6907646e9",
   "metadata": {},
   "outputs": [],
   "source": [
    "y_pred_proba = model.predict(dtest)  # Get predicted probabilities\n",
    "y_pred = (y_pred_proba >= 0.5).astype(int) "
   ]
  },
  {
   "cell_type": "code",
   "execution_count": 42,
   "id": "3f1197ab-3967-448c-b383-1f421870ed73",
   "metadata": {},
   "outputs": [],
   "source": [
    "from sklearn.metrics import accuracy_score"
   ]
  },
  {
   "cell_type": "code",
   "execution_count": 44,
   "id": "4880bec5-5299-4aba-9c03-58ffccba08a5",
   "metadata": {},
   "outputs": [
    {
     "name": "stdout",
     "output_type": "stream",
     "text": [
      "Accuracy: %.2f%% 89.33333333333333\n"
     ]
    }
   ],
   "source": [
    "accuracy = accuracy_score(y_test, y_pred)\n",
    "print(\"Accuracy: %.2f%%\", accuracy * 100)"
   ]
  },
  {
   "cell_type": "markdown",
   "id": "7c7a46da-a4ad-4eb6-ad9c-ca634956ccf8",
   "metadata": {},
   "source": [
    "---------------------"
   ]
  },
  {
   "cell_type": "markdown",
   "id": "4d1dbd00-1bbf-4e14-b16b-e195f139e0ab",
   "metadata": {},
   "source": [
    "# Using `LightGBM`\n",
    "`LightGBM` is designed for efficiency and speed."
   ]
  },
  {
   "cell_type": "code",
   "execution_count": null,
   "id": "be658217-9334-4cb8-a81d-3f572bd34765",
   "metadata": {},
   "outputs": [],
   "source": []
  },
  {
   "cell_type": "code",
   "execution_count": 69,
   "id": "7b0a5407-6663-4d58-98aa-40a0316f02ad",
   "metadata": {},
   "outputs": [],
   "source": [
    "import lightgbm as lgb\n",
    "from sklearn.datasets import make_classification\n",
    "from sklearn.model_selection import train_test_split\n",
    "from sklearn.metrics import accuracy_score"
   ]
  },
  {
   "cell_type": "code",
   "execution_count": 70,
   "id": "175dee70-5565-4420-aa54-2d548321f130",
   "metadata": {},
   "outputs": [],
   "source": [
    "x, y = make_classification(n_samples=10000, n_features=20,n_informative=15,n_redundant=5, random_state=7)"
   ]
  },
  {
   "cell_type": "code",
   "execution_count": 71,
   "id": "62ec7bbe-42da-491d-bb61-caf37f436f59",
   "metadata": {},
   "outputs": [],
   "source": [
    "x_train, x_test, y_train, y_test = train_test_split(x,y, random_state=7, test_size=0.3)"
   ]
  },
  {
   "cell_type": "code",
   "execution_count": 72,
   "id": "94a0596f-e101-4ea3-9787-ad3f4a3ca18b",
   "metadata": {},
   "outputs": [],
   "source": [
    "ltrain= lgb.Dataset(x_train, label=y_train)\n",
    "ltest = lgb.Dataset(x_test, label=y_test)"
   ]
  },
  {
   "cell_type": "code",
   "execution_count": 73,
   "id": "4799479d-3942-45d0-ae6a-9d0c41a59cf5",
   "metadata": {},
   "outputs": [],
   "source": [
    "params = {\n",
    "    'objective' : 'binary',\n",
    "    'metrics' : 'binary_logloss',\n",
    "    'learning_rate' : 0.1,\n",
    "    'num_leaves' : 31,\n",
    "    'n_estimators' : 100\n",
    "}"
   ]
  },
  {
   "cell_type": "code",
   "execution_count": 74,
   "id": "d8da9062-4a56-4157-9233-90e43564fb26",
   "metadata": {},
   "outputs": [
    {
     "name": "stderr",
     "output_type": "stream",
     "text": [
      "/home/sumeet/code/MachineLearningProjects/lib/python3.12/site-packages/lightgbm/engine.py:204: UserWarning: Found `n_estimators` in params. Will use it instead of argument\n",
      "  _log_warning(f\"Found `{alias}` in params. Will use it instead of argument\")\n"
     ]
    },
    {
     "name": "stdout",
     "output_type": "stream",
     "text": [
      "[LightGBM] [Info] Number of positive: 3513, number of negative: 3487\n",
      "[LightGBM] [Info] Auto-choosing col-wise multi-threading, the overhead of testing was 0.001075 seconds.\n",
      "You can set `force_col_wise=true` to remove the overhead.\n",
      "[LightGBM] [Info] Total Bins 5100\n",
      "[LightGBM] [Info] Number of data points in the train set: 7000, number of used features: 20\n",
      "[LightGBM] [Info] [binary:BoostFromScore]: pavg=0.501857 -> initscore=0.007429\n",
      "[LightGBM] [Info] Start training from score 0.007429\n"
     ]
    }
   ],
   "source": [
    "model = lgb.train(params, ltrain, num_boost_round=100)"
   ]
  },
  {
   "cell_type": "code",
   "execution_count": 78,
   "id": "fdf2d61b-fdfe-45c0-a8c2-9aa3dd4d50f7",
   "metadata": {},
   "outputs": [],
   "source": [
    "y_pred_prob = model. predict(x_test)"
   ]
  },
  {
   "cell_type": "code",
   "execution_count": 79,
   "id": "a3e5f23b-472e-4931-903a-04a31585923e",
   "metadata": {},
   "outputs": [],
   "source": [
    "y_pred = (y_pred_prob >= 0.5).astype(int)\n"
   ]
  },
  {
   "cell_type": "code",
   "execution_count": 80,
   "id": "c1b8c73b-b96f-40e7-9947-03765736383a",
   "metadata": {},
   "outputs": [
    {
     "data": {
      "text/plain": [
       "0.9816666666666667"
      ]
     },
     "execution_count": 80,
     "metadata": {},
     "output_type": "execute_result"
    }
   ],
   "source": [
    "accuracy = accuracy_score(y_test, y_pred)\n",
    "accuracy"
   ]
  },
  {
   "cell_type": "markdown",
   "id": "c84a275b-18cd-4de7-8f07-06e4be61d13b",
   "metadata": {},
   "source": [
    "________________"
   ]
  },
  {
   "cell_type": "markdown",
   "id": "f323e015-e08a-4b6f-9adf-dc5aff159cff",
   "metadata": {},
   "source": [
    "# CatBoost"
   ]
  },
  {
   "cell_type": "code",
   "execution_count": 82,
   "id": "29b51da1-2ca5-45f9-ae5d-15b7c26d4588",
   "metadata": {},
   "outputs": [
    {
     "name": "stdout",
     "output_type": "stream",
     "text": [
      "Collecting catboost\n",
      "  Downloading catboost-1.2.5-cp312-cp312-manylinux2014_x86_64.whl.metadata (1.2 kB)\n",
      "Requirement already satisfied: graphviz in /home/sumeet/code/MachineLearningProjects/lib/python3.12/site-packages (from catboost) (0.20.3)\n",
      "Requirement already satisfied: matplotlib in /home/sumeet/code/MachineLearningProjects/lib/python3.12/site-packages (from catboost) (3.9.0)\n",
      "Requirement already satisfied: numpy>=1.16.0 in /home/sumeet/code/MachineLearningProjects/lib/python3.12/site-packages (from catboost) (1.26.4)\n",
      "Requirement already satisfied: pandas>=0.24 in /home/sumeet/code/MachineLearningProjects/lib/python3.12/site-packages (from catboost) (2.2.2)\n",
      "Requirement already satisfied: scipy in /home/sumeet/code/MachineLearningProjects/lib/python3.12/site-packages (from catboost) (1.13.1)\n",
      "Collecting plotly (from catboost)\n",
      "  Downloading plotly-5.23.0-py3-none-any.whl.metadata (7.3 kB)\n",
      "Requirement already satisfied: six in /home/sumeet/code/MachineLearningProjects/lib/python3.12/site-packages (from catboost) (1.16.0)\n",
      "Requirement already satisfied: python-dateutil>=2.8.2 in /home/sumeet/code/MachineLearningProjects/lib/python3.12/site-packages (from pandas>=0.24->catboost) (2.9.0.post0)\n",
      "Requirement already satisfied: pytz>=2020.1 in /home/sumeet/code/MachineLearningProjects/lib/python3.12/site-packages (from pandas>=0.24->catboost) (2024.1)\n",
      "Requirement already satisfied: tzdata>=2022.7 in /home/sumeet/code/MachineLearningProjects/lib/python3.12/site-packages (from pandas>=0.24->catboost) (2024.1)\n",
      "Requirement already satisfied: contourpy>=1.0.1 in /home/sumeet/code/MachineLearningProjects/lib/python3.12/site-packages (from matplotlib->catboost) (1.2.1)\n",
      "Requirement already satisfied: cycler>=0.10 in /home/sumeet/code/MachineLearningProjects/lib/python3.12/site-packages (from matplotlib->catboost) (0.12.1)\n",
      "Requirement already satisfied: fonttools>=4.22.0 in /home/sumeet/code/MachineLearningProjects/lib/python3.12/site-packages (from matplotlib->catboost) (4.51.0)\n",
      "Requirement already satisfied: kiwisolver>=1.3.1 in /home/sumeet/code/MachineLearningProjects/lib/python3.12/site-packages (from matplotlib->catboost) (1.4.5)\n",
      "Requirement already satisfied: packaging>=20.0 in /home/sumeet/code/MachineLearningProjects/lib/python3.12/site-packages (from matplotlib->catboost) (24.0)\n",
      "Requirement already satisfied: pillow>=8 in /home/sumeet/code/MachineLearningProjects/lib/python3.12/site-packages (from matplotlib->catboost) (10.1.0)\n",
      "Requirement already satisfied: pyparsing>=2.3.1 in /home/sumeet/code/MachineLearningProjects/lib/python3.12/site-packages (from matplotlib->catboost) (3.1.2)\n",
      "Collecting tenacity>=6.2.0 (from plotly->catboost)\n",
      "  Downloading tenacity-9.0.0-py3-none-any.whl.metadata (1.2 kB)\n",
      "Downloading catboost-1.2.5-cp312-cp312-manylinux2014_x86_64.whl (98.1 MB)\n",
      "\u001b[2K   \u001b[38;2;114;156;31m━━━━━━━━━━━━━━━━━━━━━━━━━━━━━━━━━━━━━━━━\u001b[0m \u001b[32m98.1/98.1 MB\u001b[0m \u001b[31m10.3 MB/s\u001b[0m eta \u001b[36m0:00:00\u001b[0mm eta \u001b[36m0:00:01\u001b[0m[36m0:00:01\u001b[0m\n",
      "\u001b[?25hDownloading plotly-5.23.0-py3-none-any.whl (17.3 MB)\n",
      "\u001b[2K   \u001b[38;2;114;156;31m━━━━━━━━━━━━━━━━━━━━━━━━━━━━━━━━━━━━━━━━\u001b[0m \u001b[32m17.3/17.3 MB\u001b[0m \u001b[31m11.6 MB/s\u001b[0m eta \u001b[36m0:00:00\u001b[0mm eta \u001b[36m0:00:01\u001b[0m0:01\u001b[0m01\u001b[0m\n",
      "\u001b[?25hDownloading tenacity-9.0.0-py3-none-any.whl (28 kB)\n",
      "Installing collected packages: tenacity, plotly, catboost\n",
      "Successfully installed catboost-1.2.5 plotly-5.23.0 tenacity-9.0.0\n",
      "\n",
      "\u001b[1m[\u001b[0m\u001b[34;49mnotice\u001b[0m\u001b[1;39;49m]\u001b[0m\u001b[39;49m A new release of pip is available: \u001b[0m\u001b[31;49m24.1.2\u001b[0m\u001b[39;49m -> \u001b[0m\u001b[32;49m24.2\u001b[0m\n",
      "\u001b[1m[\u001b[0m\u001b[34;49mnotice\u001b[0m\u001b[1;39;49m]\u001b[0m\u001b[39;49m To update, run: \u001b[0m\u001b[32;49mpip install --upgrade pip\u001b[0m\n"
     ]
    }
   ],
   "source": [
    "!pip install catboost"
   ]
  },
  {
   "cell_type": "code",
   "execution_count": 83,
   "id": "c12ac665-da64-4ccc-a679-72b4a8e64c80",
   "metadata": {},
   "outputs": [],
   "source": [
    "import catboost as cb\n",
    "from sklearn.datasets import load_breast_cancer\n",
    "from sklearn.model_selection import train_test_split\n",
    "from sklearn.metrics import accuracy_score"
   ]
  },
  {
   "cell_type": "code",
   "execution_count": 86,
   "id": "f59ad9c6-9365-4a40-a7bb-18e7fb6e3a15",
   "metadata": {},
   "outputs": [],
   "source": [
    "data = load_breast_cancer()\n",
    "x,y = data.data, data.target"
   ]
  },
  {
   "cell_type": "code",
   "execution_count": 87,
   "id": "e9cd41b2-3211-4743-9a98-850421921869",
   "metadata": {},
   "outputs": [],
   "source": [
    "x_train, x_test, y_train, y_test = train_test_split(x,y, train_size=0.3, random_state=42)"
   ]
  },
  {
   "cell_type": "code",
   "execution_count": 88,
   "id": "e435e7fb-be92-4be3-adb6-68fbb0b54feb",
   "metadata": {},
   "outputs": [],
   "source": [
    "model = cb.CatBoostClassifier(iterations=100, learning_rate=0.1, depth=3)"
   ]
  },
  {
   "cell_type": "code",
   "execution_count": 89,
   "id": "e59064b3-6520-454c-bb5f-85cff26c5c73",
   "metadata": {},
   "outputs": [
    {
     "name": "stdout",
     "output_type": "stream",
     "text": [
      "0:\tlearn: 0.5710005\ttotal: 50.2ms\tremaining: 4.97s\n",
      "1:\tlearn: 0.4675621\ttotal: 52.2ms\tremaining: 2.56s\n",
      "2:\tlearn: 0.4050141\ttotal: 53.4ms\tremaining: 1.73s\n",
      "3:\tlearn: 0.3480606\ttotal: 54.4ms\tremaining: 1.3s\n",
      "4:\tlearn: 0.2935011\ttotal: 55.4ms\tremaining: 1.05s\n",
      "5:\tlearn: 0.2611596\ttotal: 56.9ms\tremaining: 892ms\n",
      "6:\tlearn: 0.2213728\ttotal: 58ms\tremaining: 771ms\n",
      "7:\tlearn: 0.2040785\ttotal: 59.2ms\tremaining: 681ms\n",
      "8:\tlearn: 0.1936829\ttotal: 60.2ms\tremaining: 609ms\n",
      "9:\tlearn: 0.1749248\ttotal: 61.6ms\tremaining: 554ms\n",
      "10:\tlearn: 0.1539593\ttotal: 62.8ms\tremaining: 508ms\n",
      "11:\tlearn: 0.1404436\ttotal: 64.1ms\tremaining: 470ms\n",
      "12:\tlearn: 0.1277966\ttotal: 65.2ms\tremaining: 436ms\n",
      "13:\tlearn: 0.1178603\ttotal: 66.2ms\tremaining: 407ms\n",
      "14:\tlearn: 0.1104187\ttotal: 67.2ms\tremaining: 381ms\n",
      "15:\tlearn: 0.1052006\ttotal: 68.4ms\tremaining: 359ms\n",
      "16:\tlearn: 0.0991373\ttotal: 69.4ms\tremaining: 339ms\n",
      "17:\tlearn: 0.0913972\ttotal: 70.9ms\tremaining: 323ms\n",
      "18:\tlearn: 0.0847366\ttotal: 72ms\tremaining: 307ms\n",
      "19:\tlearn: 0.0812191\ttotal: 73ms\tremaining: 292ms\n",
      "20:\tlearn: 0.0756770\ttotal: 74ms\tremaining: 278ms\n",
      "21:\tlearn: 0.0735601\ttotal: 75ms\tremaining: 266ms\n",
      "22:\tlearn: 0.0710499\ttotal: 76ms\tremaining: 255ms\n",
      "23:\tlearn: 0.0687225\ttotal: 77ms\tremaining: 244ms\n",
      "24:\tlearn: 0.0645060\ttotal: 78ms\tremaining: 234ms\n",
      "25:\tlearn: 0.0619371\ttotal: 79ms\tremaining: 225ms\n",
      "26:\tlearn: 0.0594117\ttotal: 80ms\tremaining: 216ms\n",
      "27:\tlearn: 0.0564400\ttotal: 81.1ms\tremaining: 208ms\n",
      "28:\tlearn: 0.0540350\ttotal: 82ms\tremaining: 201ms\n",
      "29:\tlearn: 0.0512575\ttotal: 83ms\tremaining: 194ms\n",
      "30:\tlearn: 0.0507395\ttotal: 84.1ms\tremaining: 187ms\n",
      "31:\tlearn: 0.0485893\ttotal: 85.2ms\tremaining: 181ms\n",
      "32:\tlearn: 0.0478099\ttotal: 86.3ms\tremaining: 175ms\n",
      "33:\tlearn: 0.0463530\ttotal: 87.2ms\tremaining: 169ms\n",
      "34:\tlearn: 0.0448678\ttotal: 88.3ms\tremaining: 164ms\n",
      "35:\tlearn: 0.0432887\ttotal: 89.5ms\tremaining: 159ms\n",
      "36:\tlearn: 0.0416582\ttotal: 90.6ms\tremaining: 154ms\n",
      "37:\tlearn: 0.0394202\ttotal: 91.6ms\tremaining: 149ms\n",
      "38:\tlearn: 0.0381169\ttotal: 92.5ms\tremaining: 145ms\n",
      "39:\tlearn: 0.0373443\ttotal: 93.9ms\tremaining: 141ms\n",
      "40:\tlearn: 0.0366439\ttotal: 95.1ms\tremaining: 137ms\n",
      "41:\tlearn: 0.0357120\ttotal: 96.3ms\tremaining: 133ms\n",
      "42:\tlearn: 0.0346494\ttotal: 97.3ms\tremaining: 129ms\n",
      "43:\tlearn: 0.0328553\ttotal: 98.3ms\tremaining: 125ms\n",
      "44:\tlearn: 0.0313722\ttotal: 99.3ms\tremaining: 121ms\n",
      "45:\tlearn: 0.0310187\ttotal: 101ms\tremaining: 118ms\n",
      "46:\tlearn: 0.0306460\ttotal: 101ms\tremaining: 114ms\n",
      "47:\tlearn: 0.0284419\ttotal: 102ms\tremaining: 111ms\n",
      "48:\tlearn: 0.0279188\ttotal: 104ms\tremaining: 108ms\n",
      "49:\tlearn: 0.0271318\ttotal: 105ms\tremaining: 105ms\n",
      "50:\tlearn: 0.0262446\ttotal: 106ms\tremaining: 101ms\n",
      "51:\tlearn: 0.0253708\ttotal: 106ms\tremaining: 98.1ms\n",
      "52:\tlearn: 0.0244735\ttotal: 107ms\tremaining: 95.1ms\n",
      "53:\tlearn: 0.0238900\ttotal: 108ms\tremaining: 92.2ms\n",
      "54:\tlearn: 0.0238035\ttotal: 109ms\tremaining: 89.3ms\n",
      "55:\tlearn: 0.0230271\ttotal: 110ms\tremaining: 86.5ms\n",
      "56:\tlearn: 0.0229518\ttotal: 111ms\tremaining: 83.8ms\n",
      "57:\tlearn: 0.0220714\ttotal: 112ms\tremaining: 81.1ms\n",
      "58:\tlearn: 0.0215817\ttotal: 113ms\tremaining: 78.4ms\n",
      "59:\tlearn: 0.0211801\ttotal: 114ms\tremaining: 75.7ms\n",
      "60:\tlearn: 0.0211234\ttotal: 114ms\tremaining: 73.1ms\n",
      "61:\tlearn: 0.0199976\ttotal: 115ms\tremaining: 70.6ms\n",
      "62:\tlearn: 0.0197122\ttotal: 116ms\tremaining: 68.1ms\n",
      "63:\tlearn: 0.0196053\ttotal: 117ms\tremaining: 65.7ms\n",
      "64:\tlearn: 0.0195518\ttotal: 118ms\tremaining: 63.5ms\n",
      "65:\tlearn: 0.0194847\ttotal: 119ms\tremaining: 61.1ms\n",
      "66:\tlearn: 0.0194356\ttotal: 119ms\tremaining: 58.8ms\n",
      "67:\tlearn: 0.0193935\ttotal: 120ms\tremaining: 56.6ms\n",
      "68:\tlearn: 0.0185225\ttotal: 121ms\tremaining: 54.4ms\n",
      "69:\tlearn: 0.0184381\ttotal: 122ms\tremaining: 52.2ms\n",
      "70:\tlearn: 0.0176350\ttotal: 123ms\tremaining: 50ms\n",
      "71:\tlearn: 0.0169847\ttotal: 123ms\tremaining: 47.9ms\n",
      "72:\tlearn: 0.0169315\ttotal: 124ms\tremaining: 45.8ms\n",
      "73:\tlearn: 0.0168780\ttotal: 125ms\tremaining: 43.8ms\n",
      "74:\tlearn: 0.0163466\ttotal: 125ms\tremaining: 41.8ms\n",
      "75:\tlearn: 0.0158808\ttotal: 126ms\tremaining: 39.8ms\n",
      "76:\tlearn: 0.0158401\ttotal: 127ms\tremaining: 37.8ms\n",
      "77:\tlearn: 0.0157786\ttotal: 127ms\tremaining: 35.9ms\n",
      "78:\tlearn: 0.0157407\ttotal: 128ms\tremaining: 34ms\n",
      "79:\tlearn: 0.0155081\ttotal: 129ms\tremaining: 32.1ms\n",
      "80:\tlearn: 0.0147979\ttotal: 129ms\tremaining: 30.3ms\n",
      "81:\tlearn: 0.0144524\ttotal: 130ms\tremaining: 28.5ms\n",
      "82:\tlearn: 0.0141693\ttotal: 130ms\tremaining: 26.7ms\n",
      "83:\tlearn: 0.0138467\ttotal: 131ms\tremaining: 25ms\n",
      "84:\tlearn: 0.0132862\ttotal: 132ms\tremaining: 23.2ms\n",
      "85:\tlearn: 0.0132507\ttotal: 132ms\tremaining: 21.5ms\n",
      "86:\tlearn: 0.0132187\ttotal: 133ms\tremaining: 19.8ms\n",
      "87:\tlearn: 0.0127470\ttotal: 133ms\tremaining: 18.2ms\n",
      "88:\tlearn: 0.0125935\ttotal: 134ms\tremaining: 16.5ms\n",
      "89:\tlearn: 0.0124041\ttotal: 134ms\tremaining: 14.9ms\n",
      "90:\tlearn: 0.0121894\ttotal: 135ms\tremaining: 13.3ms\n",
      "91:\tlearn: 0.0117834\ttotal: 135ms\tremaining: 11.8ms\n",
      "92:\tlearn: 0.0114715\ttotal: 136ms\tremaining: 10.2ms\n",
      "93:\tlearn: 0.0111985\ttotal: 136ms\tremaining: 8.71ms\n",
      "94:\tlearn: 0.0108613\ttotal: 137ms\tremaining: 7.21ms\n",
      "95:\tlearn: 0.0106403\ttotal: 137ms\tremaining: 5.72ms\n",
      "96:\tlearn: 0.0104793\ttotal: 138ms\tremaining: 4.26ms\n",
      "97:\tlearn: 0.0104564\ttotal: 138ms\tremaining: 2.82ms\n",
      "98:\tlearn: 0.0104356\ttotal: 139ms\tremaining: 1.4ms\n",
      "99:\tlearn: 0.0103362\ttotal: 139ms\tremaining: 0us\n"
     ]
    },
    {
     "data": {
      "text/plain": [
       "<catboost.core.CatBoostClassifier at 0x759c39ff9e20>"
      ]
     },
     "execution_count": 89,
     "metadata": {},
     "output_type": "execute_result"
    }
   ],
   "source": [
    "model.fit(x_train, y_train)"
   ]
  },
  {
   "cell_type": "code",
   "execution_count": 90,
   "id": "4daeca4e-421b-4c06-a804-ea51527e6528",
   "metadata": {},
   "outputs": [],
   "source": [
    "y_pred = model.predict(x_test)"
   ]
  },
  {
   "cell_type": "code",
   "execution_count": 92,
   "id": "11140815-3135-4968-9258-005220a0c87d",
   "metadata": {},
   "outputs": [
    {
     "data": {
      "text/plain": [
       "0.9649122807017544"
      ]
     },
     "execution_count": 92,
     "metadata": {},
     "output_type": "execute_result"
    }
   ],
   "source": [
    "accuracy = accuracy_score(y_test, y_pred)\n",
    "accuracy"
   ]
  },
  {
   "cell_type": "markdown",
   "id": "df654d32-2795-4de5-a714-e7bfb53bc26a",
   "metadata": {},
   "source": [
    "--------------------------------"
   ]
  },
  {
   "cell_type": "markdown",
   "id": "616e68b8-57ff-4ac3-b953-a9c16e54bd53",
   "metadata": {},
   "source": [
    "# Dask-XGBoost"
   ]
  },
  {
   "cell_type": "code",
   "execution_count": 98,
   "id": "e3df3f85-280a-4650-a784-bfcda1347ede",
   "metadata": {},
   "outputs": [
    {
     "name": "stdout",
     "output_type": "stream",
     "text": [
      "Requirement already satisfied: dask[distributed] in /home/sumeet/code/MachineLearningProjects/lib/python3.12/site-packages (2024.7.1)\n",
      "Requirement already satisfied: click>=8.1 in /home/sumeet/code/MachineLearningProjects/lib/python3.12/site-packages (from dask[distributed]) (8.1.7)\n",
      "Requirement already satisfied: cloudpickle>=1.5.0 in /home/sumeet/code/MachineLearningProjects/lib/python3.12/site-packages (from dask[distributed]) (3.0.0)\n",
      "Requirement already satisfied: fsspec>=2021.09.0 in /home/sumeet/code/MachineLearningProjects/lib/python3.12/site-packages (from dask[distributed]) (2024.5.0)\n",
      "Requirement already satisfied: packaging>=20.0 in /home/sumeet/code/MachineLearningProjects/lib/python3.12/site-packages (from dask[distributed]) (24.0)\n",
      "Requirement already satisfied: partd>=1.4.0 in /home/sumeet/code/MachineLearningProjects/lib/python3.12/site-packages (from dask[distributed]) (1.4.2)\n",
      "Requirement already satisfied: pyyaml>=5.3.1 in /home/sumeet/code/MachineLearningProjects/lib/python3.12/site-packages (from dask[distributed]) (6.0.1)\n",
      "Requirement already satisfied: toolz>=0.10.0 in /home/sumeet/code/MachineLearningProjects/lib/python3.12/site-packages (from dask[distributed]) (0.12.1)\n",
      "Collecting distributed==2024.7.1 (from dask[distributed])\n",
      "  Downloading distributed-2024.7.1-py3-none-any.whl.metadata (3.4 kB)\n",
      "Requirement already satisfied: jinja2>=2.10.3 in /home/sumeet/code/MachineLearningProjects/lib/python3.12/site-packages (from distributed==2024.7.1->dask[distributed]) (3.1.4)\n",
      "Requirement already satisfied: locket>=1.0.0 in /home/sumeet/code/MachineLearningProjects/lib/python3.12/site-packages (from distributed==2024.7.1->dask[distributed]) (1.0.0)\n",
      "Collecting msgpack>=1.0.0 (from distributed==2024.7.1->dask[distributed])\n",
      "  Downloading msgpack-1.0.8-cp312-cp312-manylinux_2_17_x86_64.manylinux2014_x86_64.whl.metadata (9.1 kB)\n",
      "Requirement already satisfied: psutil>=5.7.2 in /home/sumeet/code/MachineLearningProjects/lib/python3.12/site-packages (from distributed==2024.7.1->dask[distributed]) (5.9.8)\n",
      "Collecting sortedcontainers>=2.0.5 (from distributed==2024.7.1->dask[distributed])\n",
      "  Downloading sortedcontainers-2.4.0-py2.py3-none-any.whl.metadata (10 kB)\n",
      "Collecting tblib>=1.6.0 (from distributed==2024.7.1->dask[distributed])\n",
      "  Downloading tblib-3.0.0-py3-none-any.whl.metadata (25 kB)\n",
      "Requirement already satisfied: tornado>=6.0.4 in /home/sumeet/code/MachineLearningProjects/lib/python3.12/site-packages (from distributed==2024.7.1->dask[distributed]) (6.4)\n",
      "Requirement already satisfied: urllib3>=1.24.3 in /home/sumeet/code/MachineLearningProjects/lib/python3.12/site-packages (from distributed==2024.7.1->dask[distributed]) (2.2.1)\n",
      "Collecting zict>=3.0.0 (from distributed==2024.7.1->dask[distributed])\n",
      "  Downloading zict-3.0.0-py2.py3-none-any.whl.metadata (899 bytes)\n",
      "Requirement already satisfied: MarkupSafe>=2.0 in /home/sumeet/code/MachineLearningProjects/lib/python3.12/site-packages (from jinja2>=2.10.3->distributed==2024.7.1->dask[distributed]) (2.1.5)\n",
      "Downloading distributed-2024.7.1-py3-none-any.whl (1.0 MB)\n",
      "\u001b[2K   \u001b[38;2;114;156;31m━━━━━━━━━━━━━━━━━━━━━━━━━━━━━━━━━━━━━━━━\u001b[0m \u001b[32m1.0/1.0 MB\u001b[0m \u001b[31m15.6 MB/s\u001b[0m eta \u001b[36m0:00:00\u001b[0m MB/s\u001b[0m eta \u001b[36m0:00:01\u001b[0m\n",
      "\u001b[?25hDownloading msgpack-1.0.8-cp312-cp312-manylinux_2_17_x86_64.manylinux2014_x86_64.whl (408 kB)\n",
      "\u001b[2K   \u001b[38;2;114;156;31m━━━━━━━━━━━━━━━━━━━━━━━━━━━━━━━━━━━━━━━━\u001b[0m \u001b[32m408.3/408.3 kB\u001b[0m \u001b[31m22.8 MB/s\u001b[0m eta \u001b[36m0:00:00\u001b[0m\n",
      "\u001b[?25hDownloading sortedcontainers-2.4.0-py2.py3-none-any.whl (29 kB)\n",
      "Downloading tblib-3.0.0-py3-none-any.whl (12 kB)\n",
      "Downloading zict-3.0.0-py2.py3-none-any.whl (43 kB)\n",
      "\u001b[2K   \u001b[38;2;114;156;31m━━━━━━━━━━━━━━━━━━━━━━━━━━━━━━━━━━━━━━━━\u001b[0m \u001b[32m43.3/43.3 kB\u001b[0m \u001b[31m3.5 MB/s\u001b[0m eta \u001b[36m0:00:00\u001b[0m\n",
      "\u001b[?25hInstalling collected packages: sortedcontainers, zict, tblib, msgpack, distributed\n",
      "Successfully installed distributed-2024.7.1 msgpack-1.0.8 sortedcontainers-2.4.0 tblib-3.0.0 zict-3.0.0\n",
      "\n",
      "\u001b[1m[\u001b[0m\u001b[34;49mnotice\u001b[0m\u001b[1;39;49m]\u001b[0m\u001b[39;49m A new release of pip is available: \u001b[0m\u001b[31;49m24.1.2\u001b[0m\u001b[39;49m -> \u001b[0m\u001b[32;49m24.2\u001b[0m\n",
      "\u001b[1m[\u001b[0m\u001b[34;49mnotice\u001b[0m\u001b[1;39;49m]\u001b[0m\u001b[39;49m To update, run: \u001b[0m\u001b[32;49mpip install --upgrade pip\u001b[0m\n"
     ]
    }
   ],
   "source": [
    "!pip install \"dask[distributed]\" --upgrade"
   ]
  },
  {
   "cell_type": "code",
   "execution_count": 99,
   "id": "1accca53-d35f-4276-a2ae-74b21a8ed450",
   "metadata": {},
   "outputs": [],
   "source": [
    "import xgboost as xgb\n",
    "import dask.dataframe as dd\n",
    "from dask.distributed import Client"
   ]
  },
  {
   "cell_type": "code",
   "execution_count": 100,
   "id": "cc7b0117-6698-4c84-ad64-b025bc59ab0f",
   "metadata": {},
   "outputs": [],
   "source": [
    "df = dd.read_csv('dataset/stroke/healthcare-dataset-stroke-data.csv')"
   ]
  },
  {
   "cell_type": "code",
   "execution_count": 101,
   "id": "bd3043e3-822a-4797-b9ba-90cc00f1ac53",
   "metadata": {},
   "outputs": [],
   "source": [
    "x = df.iloc[:,:-1]\n",
    "y = df.iloc[:, -1]"
   ]
  },
  {
   "cell_type": "code",
   "execution_count": 129,
   "id": "f5088131-8e6c-49e7-bfc8-8adb795dd8da",
   "metadata": {},
   "outputs": [
    {
     "ename": "NameError",
     "evalue": "name 'client' is not defined",
     "output_type": "error",
     "traceback": [
      "\u001b[0;31m---------------------------------------------------------------------------\u001b[0m",
      "\u001b[0;31mNameError\u001b[0m                                 Traceback (most recent call last)",
      "Cell \u001b[0;32mIn[129], line 6\u001b[0m\n\u001b[1;32m      3\u001b[0m y \u001b[38;5;241m=\u001b[39m df\u001b[38;5;241m.\u001b[39miloc[:, \u001b[38;5;241m-\u001b[39m\u001b[38;5;241m1\u001b[39m]\n\u001b[1;32m      5\u001b[0m \u001b[38;5;66;03m# Create a Dask DMatrix\u001b[39;00m\n\u001b[0;32m----> 6\u001b[0m dtrain \u001b[38;5;241m=\u001b[39m xgb\u001b[38;5;241m.\u001b[39mdask\u001b[38;5;241m.\u001b[39mDaskDMatrix(\u001b[43mclient\u001b[49m, X, y)\n\u001b[1;32m      8\u001b[0m \u001b[38;5;66;03m# Train the model\u001b[39;00m\n\u001b[1;32m      9\u001b[0m output \u001b[38;5;241m=\u001b[39m xgb\u001b[38;5;241m.\u001b[39mdask\u001b[38;5;241m.\u001b[39mtrain(client, {\u001b[38;5;124m'\u001b[39m\u001b[38;5;124mobjective\u001b[39m\u001b[38;5;124m'\u001b[39m: \u001b[38;5;124m'\u001b[39m\u001b[38;5;124mbinary:logistic\u001b[39m\u001b[38;5;124m'\u001b[39m}, dtrain, num_boost_round\u001b[38;5;241m=\u001b[39m\u001b[38;5;241m100\u001b[39m)\n",
      "\u001b[0;31mNameError\u001b[0m: name 'client' is not defined"
     ]
    }
   ],
   "source": [
    "# Split the data\n",
    "X = df.iloc[:, :-1]\n",
    "y = df.iloc[:, -1]\n",
    "\n",
    "# Create a Dask DMatrix\n",
    "dtrain = xgb.dask.DaskDMatrix(client, X, y)\n",
    "\n",
    "# Train the model\n",
    "output = xgb.dask.train(client, {'objective': 'binary:logistic'}, dtrain, num_boost_round=100)\n",
    "\n",
    "# Get the best model\n",
    "booster = output['booster']"
   ]
  },
  {
   "cell_type": "markdown",
   "id": "e40cc057-6e97-46ca-9454-eb3a123c2d71",
   "metadata": {},
   "source": [
    "----------------"
   ]
  },
  {
   "cell_type": "markdown",
   "id": "43031702-c401-4e34-9034-0cf83569f3b6",
   "metadata": {},
   "source": [
    "# Using Optuna For hyperparameter tuning"
   ]
  },
  {
   "cell_type": "code",
   "execution_count": 105,
   "id": "8af47760-aed8-4459-bce3-fa3df75de1cb",
   "metadata": {},
   "outputs": [
    {
     "name": "stdout",
     "output_type": "stream",
     "text": [
      "Collecting optuna\n",
      "  Downloading optuna-3.6.1-py3-none-any.whl.metadata (17 kB)\n",
      "Collecting alembic>=1.5.0 (from optuna)\n",
      "  Downloading alembic-1.13.2-py3-none-any.whl.metadata (7.4 kB)\n",
      "Collecting colorlog (from optuna)\n",
      "  Downloading colorlog-6.8.2-py3-none-any.whl.metadata (10 kB)\n",
      "Requirement already satisfied: numpy in /home/sumeet/code/MachineLearningProjects/lib/python3.12/site-packages (from optuna) (1.26.4)\n",
      "Requirement already satisfied: packaging>=20.0 in /home/sumeet/code/MachineLearningProjects/lib/python3.12/site-packages (from optuna) (24.0)\n",
      "Collecting sqlalchemy>=1.3.0 (from optuna)\n",
      "  Downloading SQLAlchemy-2.0.31-cp312-cp312-manylinux_2_17_x86_64.manylinux2014_x86_64.whl.metadata (9.6 kB)\n",
      "Requirement already satisfied: tqdm in /home/sumeet/code/MachineLearningProjects/lib/python3.12/site-packages (from optuna) (4.66.4)\n",
      "Requirement already satisfied: PyYAML in /home/sumeet/code/MachineLearningProjects/lib/python3.12/site-packages (from optuna) (6.0.1)\n",
      "Collecting Mako (from alembic>=1.5.0->optuna)\n",
      "  Downloading Mako-1.3.5-py3-none-any.whl.metadata (2.9 kB)\n",
      "Requirement already satisfied: typing-extensions>=4 in /home/sumeet/code/MachineLearningProjects/lib/python3.12/site-packages (from alembic>=1.5.0->optuna) (4.11.0)\n",
      "Collecting greenlet!=0.4.17 (from sqlalchemy>=1.3.0->optuna)\n",
      "  Downloading greenlet-3.0.3-cp312-cp312-manylinux_2_24_x86_64.manylinux_2_28_x86_64.whl.metadata (3.8 kB)\n",
      "Requirement already satisfied: MarkupSafe>=0.9.2 in /home/sumeet/code/MachineLearningProjects/lib/python3.12/site-packages (from Mako->alembic>=1.5.0->optuna) (2.1.5)\n",
      "Downloading optuna-3.6.1-py3-none-any.whl (380 kB)\n",
      "\u001b[2K   \u001b[38;2;114;156;31m━━━━━━━━━━━━━━━━━━━━━━━━━━━━━━━━━━━━━━━━\u001b[0m \u001b[32m380.1/380.1 kB\u001b[0m \u001b[31m10.0 MB/s\u001b[0m eta \u001b[36m0:00:00\u001b[0mm eta \u001b[36m0:00:01\u001b[0m\n",
      "\u001b[?25hDownloading alembic-1.13.2-py3-none-any.whl (232 kB)\n",
      "\u001b[2K   \u001b[38;2;114;156;31m━━━━━━━━━━━━━━━━━━━━━━━━━━━━━━━━━━━━━━━━\u001b[0m \u001b[32m233.0/233.0 kB\u001b[0m \u001b[31m16.8 MB/s\u001b[0m eta \u001b[36m0:00:00\u001b[0m\n",
      "\u001b[?25hDownloading SQLAlchemy-2.0.31-cp312-cp312-manylinux_2_17_x86_64.manylinux2014_x86_64.whl (3.2 MB)\n",
      "\u001b[2K   \u001b[38;2;114;156;31m━━━━━━━━━━━━━━━━━━━━━━━━━━━━━━━━━━━━━━━━\u001b[0m \u001b[32m3.2/3.2 MB\u001b[0m \u001b[31m25.3 MB/s\u001b[0m eta \u001b[36m0:00:00\u001b[0m31m28.1 MB/s\u001b[0m eta \u001b[36m0:00:01\u001b[0m\n",
      "\u001b[?25hDownloading colorlog-6.8.2-py3-none-any.whl (11 kB)\n",
      "Downloading greenlet-3.0.3-cp312-cp312-manylinux_2_24_x86_64.manylinux_2_28_x86_64.whl (625 kB)\n",
      "\u001b[2K   \u001b[38;2;114;156;31m━━━━━━━━━━━━━━━━━━━━━━━━━━━━━━━━━━━━━━━━\u001b[0m \u001b[32m625.7/625.7 kB\u001b[0m \u001b[31m18.8 MB/s\u001b[0m eta \u001b[36m0:00:00\u001b[0m\n",
      "\u001b[?25hDownloading Mako-1.3.5-py3-none-any.whl (78 kB)\n",
      "\u001b[2K   \u001b[38;2;114;156;31m━━━━━━━━━━━━━━━━━━━━━━━━━━━━━━━━━━━━━━━━\u001b[0m \u001b[32m78.6/78.6 kB\u001b[0m \u001b[31m6.9 MB/s\u001b[0m eta \u001b[36m0:00:00\u001b[0m\n",
      "\u001b[?25hInstalling collected packages: Mako, greenlet, colorlog, sqlalchemy, alembic, optuna\n",
      "Successfully installed Mako-1.3.5 alembic-1.13.2 colorlog-6.8.2 greenlet-3.0.3 optuna-3.6.1 sqlalchemy-2.0.31\n",
      "\n",
      "\u001b[1m[\u001b[0m\u001b[34;49mnotice\u001b[0m\u001b[1;39;49m]\u001b[0m\u001b[39;49m A new release of pip is available: \u001b[0m\u001b[31;49m24.1.2\u001b[0m\u001b[39;49m -> \u001b[0m\u001b[32;49m24.2\u001b[0m\n",
      "\u001b[1m[\u001b[0m\u001b[34;49mnotice\u001b[0m\u001b[1;39;49m]\u001b[0m\u001b[39;49m To update, run: \u001b[0m\u001b[32;49mpip install --upgrade pip\u001b[0m\n"
     ]
    }
   ],
   "source": [
    "!pip install optuna"
   ]
  },
  {
   "cell_type": "code",
   "execution_count": 106,
   "id": "40066c33-8c95-4c23-b6e1-42c22e9d9aac",
   "metadata": {},
   "outputs": [
    {
     "name": "stderr",
     "output_type": "stream",
     "text": [
      "/home/sumeet/code/MachineLearningProjects/lib/python3.12/site-packages/tqdm/auto.py:21: TqdmWarning: IProgress not found. Please update jupyter and ipywidgets. See https://ipywidgets.readthedocs.io/en/stable/user_install.html\n",
      "  from .autonotebook import tqdm as notebook_tqdm\n"
     ]
    }
   ],
   "source": [
    "import optuna\n",
    "import xgboost as xgb\n",
    "from sklearn.datasets import load_breast_cancer\n",
    "from sklearn.model_selection import train_test_split"
   ]
  },
  {
   "cell_type": "code",
   "execution_count": 109,
   "id": "84475b3c-652a-48f4-8c51-0673a2eb757c",
   "metadata": {},
   "outputs": [],
   "source": [
    "data = load_breast_cancer()\n",
    "x, y = data.data, data.target\n",
    "x_train, x_test, y_train, y_test = train_test_split(x,y,test_size=0.3, random_state=4)"
   ]
  },
  {
   "cell_type": "code",
   "execution_count": 118,
   "id": "14dabcd9-4c96-4ffe-815b-b5a11e09db53",
   "metadata": {},
   "outputs": [],
   "source": [
    "# Defining an objective function for optuna\n",
    "def objective(trial):\n",
    "    max_depth = trial.suggest_int('max_depth', 2, 10)\n",
    "    n_estimators = trial.suggest_int('n_estimators', 50, 500)\n",
    "    learning_rate = trial.suggest_float('learning_rate', 0.01, 0.3)\n",
    "\n",
    "    model = xgb.XGBClassifier(max_depth=max_depth,n_estimators=n_estimators, learning_rate=learning_rate, random_state=42)\n",
    "    model.fit(x_train,y_train)\n",
    "    score = model.score(x_test,y_test)\n",
    "    return score"
   ]
  },
  {
   "cell_type": "code",
   "execution_count": 119,
   "id": "b1bcece4-78fa-4b40-894f-8aa3ad900c0c",
   "metadata": {},
   "outputs": [
    {
     "name": "stderr",
     "output_type": "stream",
     "text": [
      "[I 2024-07-31 05:09:12,845] A new study created in memory with name: no-name-5ae19c7d-fa7a-408a-8a54-8f074f301a50\n",
      "[I 2024-07-31 05:09:12,978] Trial 0 finished with value: 0.9473684210526315 and parameters: {'max_depth': 5, 'n_estimators': 395, 'learning_rate': 0.16396328789814654}. Best is trial 0 with value: 0.9473684210526315.\n",
      "[I 2024-07-31 05:09:13,057] Trial 1 finished with value: 0.9649122807017544 and parameters: {'max_depth': 5, 'n_estimators': 385, 'learning_rate': 0.2676136338546822}. Best is trial 1 with value: 0.9649122807017544.\n",
      "[I 2024-07-31 05:09:13,138] Trial 2 finished with value: 0.9532163742690059 and parameters: {'max_depth': 8, 'n_estimators': 433, 'learning_rate': 0.28220574302398915}. Best is trial 1 with value: 0.9649122807017544.\n",
      "[I 2024-07-31 05:09:13,226] Trial 3 finished with value: 0.9473684210526315 and parameters: {'max_depth': 7, 'n_estimators': 346, 'learning_rate': 0.13780112701763061}. Best is trial 1 with value: 0.9649122807017544.\n",
      "[I 2024-07-31 05:09:13,308] Trial 4 finished with value: 0.9532163742690059 and parameters: {'max_depth': 5, 'n_estimators': 423, 'learning_rate': 0.2550125856670636}. Best is trial 1 with value: 0.9649122807017544.\n",
      "[I 2024-07-31 05:09:13,393] Trial 5 finished with value: 0.9473684210526315 and parameters: {'max_depth': 4, 'n_estimators': 483, 'learning_rate': 0.19974386172138267}. Best is trial 1 with value: 0.9649122807017544.\n",
      "[I 2024-07-31 05:09:13,462] Trial 6 finished with value: 0.9473684210526315 and parameters: {'max_depth': 3, 'n_estimators': 141, 'learning_rate': 0.14589557975086495}. Best is trial 1 with value: 0.9649122807017544.\n",
      "[I 2024-07-31 05:09:13,567] Trial 7 finished with value: 0.9532163742690059 and parameters: {'max_depth': 10, 'n_estimators': 199, 'learning_rate': 0.04562141588555453}. Best is trial 1 with value: 0.9649122807017544.\n",
      "[I 2024-07-31 05:09:13,634] Trial 8 finished with value: 0.9532163742690059 and parameters: {'max_depth': 10, 'n_estimators': 174, 'learning_rate': 0.17242021234325333}. Best is trial 1 with value: 0.9649122807017544.\n",
      "[I 2024-07-31 05:09:13,697] Trial 9 finished with value: 0.9532163742690059 and parameters: {'max_depth': 2, 'n_estimators': 299, 'learning_rate': 0.27859724468852326}. Best is trial 1 with value: 0.9649122807017544.\n",
      "[I 2024-07-31 05:09:13,764] Trial 10 finished with value: 0.9590643274853801 and parameters: {'max_depth': 7, 'n_estimators': 66, 'learning_rate': 0.07999396661987929}. Best is trial 1 with value: 0.9649122807017544.\n",
      "[I 2024-07-31 05:09:13,834] Trial 11 finished with value: 0.9590643274853801 and parameters: {'max_depth': 7, 'n_estimators': 245, 'learning_rate': 0.06655457153108718}. Best is trial 1 with value: 0.9649122807017544.\n",
      "[I 2024-07-31 05:09:14,192] Trial 12 finished with value: 0.9590643274853801 and parameters: {'max_depth': 6, 'n_estimators': 51, 'learning_rate': 0.09397367045412319}. Best is trial 1 with value: 0.9649122807017544.\n",
      "[I 2024-07-31 05:09:14,271] Trial 13 finished with value: 0.9590643274853801 and parameters: {'max_depth': 8, 'n_estimators': 56, 'learning_rate': 0.23089491601227038}. Best is trial 1 with value: 0.9649122807017544.\n",
      "[I 2024-07-31 05:09:14,507] Trial 14 finished with value: 0.9532163742690059 and parameters: {'max_depth': 5, 'n_estimators': 323, 'learning_rate': 0.021964710738642215}. Best is trial 1 with value: 0.9649122807017544.\n",
      "[I 2024-07-31 05:09:14,755] Trial 15 finished with value: 0.9473684210526315 and parameters: {'max_depth': 8, 'n_estimators': 245, 'learning_rate': 0.1050685884256099}. Best is trial 1 with value: 0.9649122807017544.\n",
      "[I 2024-07-31 05:09:14,814] Trial 16 finished with value: 0.9532163742690059 and parameters: {'max_depth': 6, 'n_estimators': 111, 'learning_rate': 0.20948578794516365}. Best is trial 1 with value: 0.9649122807017544.\n",
      "[I 2024-07-31 05:09:14,954] Trial 17 finished with value: 0.9473684210526315 and parameters: {'max_depth': 4, 'n_estimators': 360, 'learning_rate': 0.11539769491788093}. Best is trial 1 with value: 0.9649122807017544.\n",
      "[I 2024-07-31 05:09:15,058] Trial 18 finished with value: 0.9415204678362573 and parameters: {'max_depth': 9, 'n_estimators': 493, 'learning_rate': 0.29997490551973816}. Best is trial 1 with value: 0.9649122807017544.\n",
      "[I 2024-07-31 05:09:15,450] Trial 19 finished with value: 0.9532163742690059 and parameters: {'max_depth': 7, 'n_estimators': 246, 'learning_rate': 0.07259478644942018}. Best is trial 1 with value: 0.9649122807017544.\n",
      "[I 2024-07-31 05:09:16,043] Trial 20 finished with value: 0.935672514619883 and parameters: {'max_depth': 2, 'n_estimators': 381, 'learning_rate': 0.010572571754158488}. Best is trial 1 with value: 0.9649122807017544.\n",
      "[I 2024-07-31 05:09:16,142] Trial 21 finished with value: 0.9532163742690059 and parameters: {'max_depth': 7, 'n_estimators': 259, 'learning_rate': 0.062413568228255056}. Best is trial 1 with value: 0.9649122807017544.\n",
      "[I 2024-07-31 05:09:16,226] Trial 22 finished with value: 0.9532163742690059 and parameters: {'max_depth': 6, 'n_estimators': 107, 'learning_rate': 0.07798674084813229}. Best is trial 1 with value: 0.9649122807017544.\n",
      "[I 2024-07-31 05:09:16,302] Trial 23 finished with value: 0.9590643274853801 and parameters: {'max_depth': 7, 'n_estimators': 201, 'learning_rate': 0.12288216246567088}. Best is trial 1 with value: 0.9649122807017544.\n",
      "[I 2024-07-31 05:09:16,453] Trial 24 finished with value: 0.9532163742690059 and parameters: {'max_depth': 6, 'n_estimators': 287, 'learning_rate': 0.03881041779743223}. Best is trial 1 with value: 0.9649122807017544.\n",
      "[I 2024-07-31 05:09:16,999] Trial 25 finished with value: 0.9473684210526315 and parameters: {'max_depth': 4, 'n_estimators': 108, 'learning_rate': 0.18418121860121367}. Best is trial 1 with value: 0.9649122807017544.\n",
      "[I 2024-07-31 05:09:17,094] Trial 26 finished with value: 0.9532163742690059 and parameters: {'max_depth': 9, 'n_estimators': 450, 'learning_rate': 0.08787509903117681}. Best is trial 1 with value: 0.9649122807017544.\n",
      "[I 2024-07-31 05:09:17,171] Trial 27 finished with value: 0.9532163742690059 and parameters: {'max_depth': 5, 'n_estimators': 213, 'learning_rate': 0.04893132884139952}. Best is trial 1 with value: 0.9649122807017544.\n",
      "[I 2024-07-31 05:09:17,269] Trial 28 finished with value: 0.9532163742690059 and parameters: {'max_depth': 9, 'n_estimators': 155, 'learning_rate': 0.23560539599643016}. Best is trial 1 with value: 0.9649122807017544.\n",
      "[I 2024-07-31 05:09:17,385] Trial 29 finished with value: 0.9473684210526315 and parameters: {'max_depth': 8, 'n_estimators': 312, 'learning_rate': 0.13877995133741688}. Best is trial 1 with value: 0.9649122807017544.\n",
      "[I 2024-07-31 05:09:18,238] Trial 30 finished with value: 0.9532163742690059 and parameters: {'max_depth': 3, 'n_estimators': 406, 'learning_rate': 0.05582504451765563}. Best is trial 1 with value: 0.9649122807017544.\n",
      "[I 2024-07-31 05:09:18,371] Trial 31 finished with value: 0.9590643274853801 and parameters: {'max_depth': 6, 'n_estimators': 75, 'learning_rate': 0.09643688223915849}. Best is trial 1 with value: 0.9649122807017544.\n",
      "[I 2024-07-31 05:09:18,955] Trial 32 finished with value: 0.9590643274853801 and parameters: {'max_depth': 6, 'n_estimators': 60, 'learning_rate': 0.08530367709031961}. Best is trial 1 with value: 0.9649122807017544.\n",
      "[I 2024-07-31 05:09:19,037] Trial 33 finished with value: 0.9590643274853801 and parameters: {'max_depth': 7, 'n_estimators': 88, 'learning_rate': 0.12217901927235437}. Best is trial 1 with value: 0.9649122807017544.\n",
      "[I 2024-07-31 05:09:19,119] Trial 34 finished with value: 0.9532163742690059 and parameters: {'max_depth': 5, 'n_estimators': 141, 'learning_rate': 0.16066766356657095}. Best is trial 1 with value: 0.9649122807017544.\n",
      "[I 2024-07-31 05:09:19,299] Trial 35 finished with value: 0.9532163742690059 and parameters: {'max_depth': 7, 'n_estimators': 335, 'learning_rate': 0.03355912671404322}. Best is trial 1 with value: 0.9649122807017544.\n",
      "[I 2024-07-31 05:09:20,593] Trial 36 finished with value: 0.9590643274853801 and parameters: {'max_depth': 5, 'n_estimators': 460, 'learning_rate': 0.06982590403809036}. Best is trial 1 with value: 0.9649122807017544.\n",
      "[I 2024-07-31 05:09:20,694] Trial 37 finished with value: 0.9532163742690059 and parameters: {'max_depth': 8, 'n_estimators': 369, 'learning_rate': 0.102015538772419}. Best is trial 1 with value: 0.9649122807017544.\n",
      "[I 2024-07-31 05:09:20,737] Trial 38 finished with value: 0.9590643274853801 and parameters: {'max_depth': 6, 'n_estimators': 129, 'learning_rate': 0.1498381811711869}. Best is trial 1 with value: 0.9649122807017544.\n",
      "[I 2024-07-31 05:09:20,791] Trial 39 finished with value: 0.9532163742690059 and parameters: {'max_depth': 4, 'n_estimators': 181, 'learning_rate': 0.2727986231227195}. Best is trial 1 with value: 0.9649122807017544.\n",
      "[I 2024-07-31 05:09:20,838] Trial 40 finished with value: 0.9532163742690059 and parameters: {'max_depth': 6, 'n_estimators': 85, 'learning_rate': 0.1823944803699633}. Best is trial 1 with value: 0.9649122807017544.\n",
      "[I 2024-07-31 05:09:20,878] Trial 41 finished with value: 0.9590643274853801 and parameters: {'max_depth': 8, 'n_estimators': 53, 'learning_rate': 0.24148921015440655}. Best is trial 1 with value: 0.9649122807017544.\n",
      "[I 2024-07-31 05:09:20,913] Trial 42 finished with value: 0.9532163742690059 and parameters: {'max_depth': 8, 'n_estimators': 68, 'learning_rate': 0.2206963374114077}. Best is trial 1 with value: 0.9649122807017544.\n",
      "[I 2024-07-31 05:09:20,956] Trial 43 finished with value: 0.9532163742690059 and parameters: {'max_depth': 7, 'n_estimators': 92, 'learning_rate': 0.2615378569654475}. Best is trial 1 with value: 0.9649122807017544.\n",
      "[I 2024-07-31 05:09:21,019] Trial 44 finished with value: 0.9590643274853801 and parameters: {'max_depth': 9, 'n_estimators': 415, 'learning_rate': 0.24591049826451822}. Best is trial 1 with value: 0.9649122807017544.\n",
      "[I 2024-07-31 05:09:22,057] Trial 45 finished with value: 0.9532163742690059 and parameters: {'max_depth': 8, 'n_estimators': 59, 'learning_rate': 0.2619732475221668}. Best is trial 1 with value: 0.9649122807017544.\n",
      "[I 2024-07-31 05:09:22,812] Trial 46 finished with value: 0.9473684210526315 and parameters: {'max_depth': 5, 'n_estimators': 128, 'learning_rate': 0.20952978006902004}. Best is trial 1 with value: 0.9649122807017544.\n",
      "[I 2024-07-31 05:09:22,853] Trial 47 finished with value: 0.9473684210526315 and parameters: {'max_depth': 7, 'n_estimators': 168, 'learning_rate': 0.2285305869181715}. Best is trial 1 with value: 0.9649122807017544.\n",
      "[I 2024-07-31 05:09:23,573] Trial 48 finished with value: 0.9473684210526315 and parameters: {'max_depth': 10, 'n_estimators': 98, 'learning_rate': 0.2981125093386432}. Best is trial 1 with value: 0.9649122807017544.\n",
      "[I 2024-07-31 05:09:24,654] Trial 49 finished with value: 0.9532163742690059 and parameters: {'max_depth': 7, 'n_estimators': 215, 'learning_rate': 0.029301200968279532}. Best is trial 1 with value: 0.9649122807017544.\n",
      "[I 2024-07-31 05:09:24,725] Trial 50 finished with value: 0.9532163742690059 and parameters: {'max_depth': 8, 'n_estimators': 348, 'learning_rate': 0.0623480486487375}. Best is trial 1 with value: 0.9649122807017544.\n",
      "[I 2024-07-31 05:09:25,277] Trial 51 finished with value: 0.9532163742690059 and parameters: {'max_depth': 7, 'n_estimators': 234, 'learning_rate': 0.11984413477206679}. Best is trial 1 with value: 0.9649122807017544.\n",
      "[I 2024-07-31 05:09:25,341] Trial 52 finished with value: 0.9532163742690059 and parameters: {'max_depth': 6, 'n_estimators': 270, 'learning_rate': 0.12908268122569538}. Best is trial 1 with value: 0.9649122807017544.\n",
      "[I 2024-07-31 05:09:26,093] Trial 53 finished with value: 0.9532163742690059 and parameters: {'max_depth': 7, 'n_estimators': 287, 'learning_rate': 0.10829811449082002}. Best is trial 1 with value: 0.9649122807017544.\n",
      "[I 2024-07-31 05:09:26,145] Trial 54 finished with value: 0.9532163742690059 and parameters: {'max_depth': 6, 'n_estimators': 193, 'learning_rate': 0.09419265218487125}. Best is trial 1 with value: 0.9649122807017544.\n",
      "[I 2024-07-31 05:09:27,665] Trial 55 finished with value: 0.9473684210526315 and parameters: {'max_depth': 7, 'n_estimators': 115, 'learning_rate': 0.28877405827879815}. Best is trial 1 with value: 0.9649122807017544.\n",
      "[I 2024-07-31 05:09:27,721] Trial 56 finished with value: 0.9532163742690059 and parameters: {'max_depth': 5, 'n_estimators': 229, 'learning_rate': 0.11153561157399548}. Best is trial 1 with value: 0.9649122807017544.\n",
      "[I 2024-07-31 05:09:28,764] Trial 57 finished with value: 0.9590643274853801 and parameters: {'max_depth': 9, 'n_estimators': 75, 'learning_rate': 0.1347937006604899}. Best is trial 1 with value: 0.9649122807017544.\n",
      "[I 2024-07-31 05:09:28,845] Trial 58 finished with value: 0.9532163742690059 and parameters: {'max_depth': 8, 'n_estimators': 261, 'learning_rate': 0.08137550671328116}. Best is trial 1 with value: 0.9649122807017544.\n",
      "[I 2024-07-31 05:09:28,940] Trial 59 finished with value: 0.9590643274853801 and parameters: {'max_depth': 6, 'n_estimators': 313, 'learning_rate': 0.07137364576859204}. Best is trial 1 with value: 0.9649122807017544.\n",
      "[I 2024-07-31 05:09:28,990] Trial 60 finished with value: 0.9532163742690059 and parameters: {'max_depth': 3, 'n_estimators': 151, 'learning_rate': 0.2734917487324364}. Best is trial 1 with value: 0.9649122807017544.\n",
      "[I 2024-07-31 05:09:29,030] Trial 61 finished with value: 0.9590643274853801 and parameters: {'max_depth': 4, 'n_estimators': 50, 'learning_rate': 0.0893671928066068}. Best is trial 1 with value: 0.9649122807017544.\n",
      "[I 2024-07-31 05:09:29,081] Trial 62 finished with value: 0.9590643274853801 and parameters: {'max_depth': 7, 'n_estimators': 78, 'learning_rate': 0.09915528520004005}. Best is trial 1 with value: 0.9649122807017544.\n",
      "[I 2024-07-31 05:09:29,134] Trial 63 finished with value: 0.9532163742690059 and parameters: {'max_depth': 6, 'n_estimators': 76, 'learning_rate': 0.05467093632634912}. Best is trial 1 with value: 0.9649122807017544.\n",
      "[I 2024-07-31 05:09:29,198] Trial 64 finished with value: 0.9532163742690059 and parameters: {'max_depth': 6, 'n_estimators': 105, 'learning_rate': 0.04388444402423993}. Best is trial 1 with value: 0.9649122807017544.\n",
      "[I 2024-07-31 05:09:29,238] Trial 65 finished with value: 0.9590643274853801 and parameters: {'max_depth': 7, 'n_estimators': 64, 'learning_rate': 0.09629730028306532}. Best is trial 1 with value: 0.9649122807017544.\n",
      "[I 2024-07-31 05:09:29,319] Trial 66 finished with value: 0.9473684210526315 and parameters: {'max_depth': 6, 'n_estimators': 396, 'learning_rate': 0.16779516411883988}. Best is trial 1 with value: 0.9649122807017544.\n",
      "[I 2024-07-31 05:09:29,397] Trial 67 finished with value: 0.9473684210526315 and parameters: {'max_depth': 5, 'n_estimators': 443, 'learning_rate': 0.07751717077437015}. Best is trial 1 with value: 0.9649122807017544.\n",
      "[I 2024-07-31 05:09:30,248] Trial 68 finished with value: 0.9590643274853801 and parameters: {'max_depth': 8, 'n_estimators': 123, 'learning_rate': 0.1459215048978456}. Best is trial 1 with value: 0.9649122807017544.\n",
      "[I 2024-07-31 05:09:30,293] Trial 69 finished with value: 0.9590643274853801 and parameters: {'max_depth': 5, 'n_estimators': 91, 'learning_rate': 0.06410359215271477}. Best is trial 1 with value: 0.9649122807017544.\n",
      "[I 2024-07-31 05:09:30,363] Trial 70 finished with value: 0.9532163742690059 and parameters: {'max_depth': 6, 'n_estimators': 202, 'learning_rate': 0.12590143038849239}. Best is trial 1 with value: 0.9649122807017544.\n",
      "[I 2024-07-31 05:09:30,400] Trial 71 finished with value: 0.9590643274853801 and parameters: {'max_depth': 7, 'n_estimators': 51, 'learning_rate': 0.08807328006516196}. Best is trial 1 with value: 0.9649122807017544.\n",
      "[I 2024-07-31 05:09:30,474] Trial 72 finished with value: 0.9532163742690059 and parameters: {'max_depth': 6, 'n_estimators': 70, 'learning_rate': 0.08222104612561418}. Best is trial 1 with value: 0.9649122807017544.\n",
      "[I 2024-07-31 05:09:30,513] Trial 73 finished with value: 0.9590643274853801 and parameters: {'max_depth': 7, 'n_estimators': 65, 'learning_rate': 0.10276471839566766}. Best is trial 1 with value: 0.9649122807017544.\n",
      "[I 2024-07-31 05:09:31,557] Trial 74 finished with value: 0.9590643274853801 and parameters: {'max_depth': 5, 'n_estimators': 88, 'learning_rate': 0.11101502159837692}. Best is trial 1 with value: 0.9649122807017544.\n",
      "[I 2024-07-31 05:09:31,638] Trial 75 finished with value: 0.9590643274853801 and parameters: {'max_depth': 6, 'n_estimators': 141, 'learning_rate': 0.054348140969108574}. Best is trial 1 with value: 0.9649122807017544.\n",
      "[I 2024-07-31 05:09:31,692] Trial 76 finished with value: 0.9590643274853801 and parameters: {'max_depth': 7, 'n_estimators': 101, 'learning_rate': 0.07596087763052436}. Best is trial 1 with value: 0.9649122807017544.\n",
      "[I 2024-07-31 05:09:31,750] Trial 77 finished with value: 0.9473684210526315 and parameters: {'max_depth': 6, 'n_estimators': 242, 'learning_rate': 0.19302474861644092}. Best is trial 1 with value: 0.9649122807017544.\n",
      "[I 2024-07-31 05:09:31,808] Trial 78 finished with value: 0.9590643274853801 and parameters: {'max_depth': 5, 'n_estimators': 119, 'learning_rate': 0.11666334403134623}. Best is trial 1 with value: 0.9649122807017544.\n",
      "[I 2024-07-31 05:09:31,864] Trial 79 finished with value: 0.9532163742690059 and parameters: {'max_depth': 8, 'n_estimators': 80, 'learning_rate': 0.06394898483693756}. Best is trial 1 with value: 0.9649122807017544.\n",
      "[I 2024-07-31 05:09:31,908] Trial 80 finished with value: 0.9590643274853801 and parameters: {'max_depth': 4, 'n_estimators': 60, 'learning_rate': 0.09236044600541236}. Best is trial 1 with value: 0.9649122807017544.\n",
      "[I 2024-07-31 05:09:31,960] Trial 81 finished with value: 0.9590643274853801 and parameters: {'max_depth': 7, 'n_estimators': 94, 'learning_rate': 0.12430567490220247}. Best is trial 1 with value: 0.9649122807017544.\n",
      "[I 2024-07-31 05:09:32,041] Trial 82 finished with value: 0.9532163742690059 and parameters: {'max_depth': 7, 'n_estimators': 290, 'learning_rate': 0.1567090375415493}. Best is trial 1 with value: 0.9649122807017544.\n",
      "[I 2024-07-31 05:09:32,084] Trial 83 finished with value: 0.9590643274853801 and parameters: {'max_depth': 7, 'n_estimators': 50, 'learning_rate': 0.13873945340891794}. Best is trial 1 with value: 0.9649122807017544.\n",
      "[I 2024-07-31 05:09:32,141] Trial 84 finished with value: 0.9532163742690059 and parameters: {'max_depth': 6, 'n_estimators': 82, 'learning_rate': 0.08353868905733539}. Best is trial 1 with value: 0.9649122807017544.\n",
      "[I 2024-07-31 05:09:32,234] Trial 85 finished with value: 0.9473684210526315 and parameters: {'max_depth': 8, 'n_estimators': 467, 'learning_rate': 0.2521000778670579}. Best is trial 1 with value: 0.9649122807017544.\n",
      "[I 2024-07-31 05:09:32,273] Trial 86 finished with value: 0.9590643274853801 and parameters: {'max_depth': 9, 'n_estimators': 64, 'learning_rate': 0.13134406013243136}. Best is trial 1 with value: 0.9649122807017544.\n",
      "[I 2024-07-31 05:09:32,336] Trial 87 finished with value: 0.9590643274853801 and parameters: {'max_depth': 6, 'n_estimators': 137, 'learning_rate': 0.10320901085200343}. Best is trial 1 with value: 0.9649122807017544.\n",
      "[I 2024-07-31 05:09:32,381] Trial 88 finished with value: 0.9532163742690059 and parameters: {'max_depth': 8, 'n_estimators': 108, 'learning_rate': 0.11994755535893248}. Best is trial 1 with value: 0.9649122807017544.\n",
      "[I 2024-07-31 05:09:33,503] Trial 89 finished with value: 0.9590643274853801 and parameters: {'max_depth': 6, 'n_estimators': 165, 'learning_rate': 0.06986467879780284}. Best is trial 1 with value: 0.9649122807017544.\n",
      "[I 2024-07-31 05:09:33,557] Trial 90 finished with value: 0.9532163742690059 and parameters: {'max_depth': 7, 'n_estimators': 188, 'learning_rate': 0.22152857422010114}. Best is trial 1 with value: 0.9649122807017544.\n",
      "[I 2024-07-31 05:09:33,688] Trial 91 finished with value: 0.9532163742690059 and parameters: {'max_depth': 5, 'n_estimators': 478, 'learning_rate': 0.06927884440984078}. Best is trial 1 with value: 0.9649122807017544.\n",
      "[I 2024-07-31 05:09:34,528] Trial 92 finished with value: 0.9532163742690059 and parameters: {'max_depth': 5, 'n_estimators': 432, 'learning_rate': 0.04657758792107865}. Best is trial 1 with value: 0.9649122807017544.\n",
      "[I 2024-07-31 05:09:34,600] Trial 93 finished with value: 0.9532163742690059 and parameters: {'max_depth': 5, 'n_estimators': 375, 'learning_rate': 0.09556509056009385}. Best is trial 1 with value: 0.9649122807017544.\n",
      "[I 2024-07-31 05:09:34,675] Trial 94 finished with value: 0.9415204678362573 and parameters: {'max_depth': 4, 'n_estimators': 360, 'learning_rate': 0.08414343607764935}. Best is trial 1 with value: 0.9649122807017544.\n",
      "[I 2024-07-31 05:09:34,727] Trial 95 finished with value: 0.9532163742690059 and parameters: {'max_depth': 7, 'n_estimators': 217, 'learning_rate': 0.17626287347580147}. Best is trial 1 with value: 0.9649122807017544.\n",
      "[I 2024-07-31 05:09:34,831] Trial 96 finished with value: 0.9473684210526315 and parameters: {'max_depth': 6, 'n_estimators': 493, 'learning_rate': 0.06156699137232239}. Best is trial 1 with value: 0.9649122807017544.\n",
      "[I 2024-07-31 05:09:34,876] Trial 97 finished with value: 0.9532163742690059 and parameters: {'max_depth': 5, 'n_estimators': 72, 'learning_rate': 0.019285260991103254}. Best is trial 1 with value: 0.9649122807017544.\n",
      "[I 2024-07-31 05:09:34,951] Trial 98 finished with value: 0.9473684210526315 and parameters: {'max_depth': 6, 'n_estimators': 336, 'learning_rate': 0.07651737617723123}. Best is trial 1 with value: 0.9649122807017544.\n",
      "[I 2024-07-31 05:09:35,502] Trial 99 finished with value: 0.9415204678362573 and parameters: {'max_depth': 7, 'n_estimators': 261, 'learning_rate': 0.287895290974874}. Best is trial 1 with value: 0.9649122807017544.\n"
     ]
    }
   ],
   "source": [
    "study = optuna.create_study(direction='maximize')\n",
    "study.optimize(objective, n_trials=100)"
   ]
  },
  {
   "cell_type": "code",
   "execution_count": 123,
   "id": "ca9eaded-7cbd-477a-9bd1-f5a7382a1c46",
   "metadata": {},
   "outputs": [
    {
     "data": {
      "text/plain": [
       "{'max_depth': 5, 'n_estimators': 385, 'learning_rate': 0.2676136338546822}"
      ]
     },
     "execution_count": 123,
     "metadata": {},
     "output_type": "execute_result"
    }
   ],
   "source": [
    "best_params = study.best_params\n",
    "best_params"
   ]
  },
  {
   "cell_type": "code",
   "execution_count": 125,
   "id": "7f9dfdf1-390b-4119-a281-4387ca4d9005",
   "metadata": {},
   "outputs": [],
   "source": [
    "y_pred = model.predict(x_test)"
   ]
  },
  {
   "cell_type": "code",
   "execution_count": 128,
   "id": "c0472d07-d580-4c1c-a948-455e67399ee5",
   "metadata": {},
   "outputs": [
    {
     "data": {
      "text/plain": [
       "0.9824561403508771"
      ]
     },
     "execution_count": 128,
     "metadata": {},
     "output_type": "execute_result"
    }
   ],
   "source": [
    "accuracy = accuracy_score(y_test, y_pred)\n",
    "accuracy"
   ]
  },
  {
   "cell_type": "code",
   "execution_count": null,
   "id": "eac72b46-c883-4884-b153-0a752de0d94c",
   "metadata": {},
   "outputs": [],
   "source": []
  }
 ],
 "metadata": {
  "kernelspec": {
   "display_name": "ml",
   "language": "python",
   "name": "ml"
  },
  "language_info": {
   "codemirror_mode": {
    "name": "ipython",
    "version": 3
   },
   "file_extension": ".py",
   "mimetype": "text/x-python",
   "name": "python",
   "nbconvert_exporter": "python",
   "pygments_lexer": "ipython3",
   "version": "3.12.4"
  }
 },
 "nbformat": 4,
 "nbformat_minor": 5
}
