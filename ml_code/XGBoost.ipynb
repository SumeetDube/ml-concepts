{
 "cells": [
  {
   "cell_type": "code",
   "execution_count": 7,
   "id": "8af4ddb0-3315-4448-b2df-7f8df38177d5",
   "metadata": {},
   "outputs": [],
   "source": [
    "# Regression"
   ]
  },
  {
   "cell_type": "code",
   "execution_count": 45,
   "id": "e4c38bd3-d33c-4f1a-a968-28e7d2cdb6f5",
   "metadata": {},
   "outputs": [],
   "source": [
    "import xgboost as xgb\n",
    "from sklearn.datasets import fetch_california_housing\n",
    "from sklearn.model_selection import train_test_split\n",
    "from sklearn.metrics import mean_squared_error"
   ]
  },
  {
   "cell_type": "code",
   "execution_count": 46,
   "id": "ccb625ca-338f-4d20-b4fe-d8e3353f861d",
   "metadata": {},
   "outputs": [],
   "source": [
    "data = fetch_california_housing()\n",
    "x, y = data.data , data.target"
   ]
  },
  {
   "cell_type": "code",
   "execution_count": 47,
   "id": "d3ac7f84-6630-47ac-ad9b-e4b719284214",
   "metadata": {},
   "outputs": [],
   "source": [
    "x_train, x_test, y_train, y_test = train_test_split(x,y,test_size=0.3, random_state=42)"
   ]
  },
  {
   "cell_type": "code",
   "execution_count": 48,
   "id": "5e308327-78ac-4695-a48b-42b09d15d7cd",
   "metadata": {},
   "outputs": [],
   "source": [
    "dtrain = xgb.DMatrix(x_train, label=y_train)\n",
    "dtest = xgb.DMatrix(x_test, label=y_test)"
   ]
  },
  {
   "cell_type": "code",
   "execution_count": 50,
   "id": "20c2a8c1-99f9-4cbb-ac07-2edc17817bf0",
   "metadata": {},
   "outputs": [],
   "source": [
    "params = {\n",
    "    'objective' : 'reg:squarederror',\n",
    "    'max_depth' : 3,\n",
    "    'eta' : 0.1,\n",
    "    'eval_metric' : 'rmse' \n",
    "}"
   ]
  },
  {
   "cell_type": "code",
   "execution_count": 51,
   "id": "0048a823-3bc7-4369-ba59-6c0614bb6eb9",
   "metadata": {},
   "outputs": [],
   "source": [
    "model = xgb.train(params, dtrain, num_boost_round=100)\n",
    "preds = model.predict(dtest)"
   ]
  },
  {
   "cell_type": "code",
   "execution_count": 52,
   "id": "d243a457-11ed-4b0d-a993-73fa6447820b",
   "metadata": {},
   "outputs": [
    {
     "data": {
      "text/plain": [
       "0.28558709069120003"
      ]
     },
     "execution_count": 52,
     "metadata": {},
     "output_type": "execute_result"
    }
   ],
   "source": [
    "mse = mean_squared_error(y_test, preds)\n",
    "mse"
   ]
  },
  {
   "cell_type": "markdown",
   "id": "d0eee6d5-067f-4232-a1bd-09b16ac1ab69",
   "metadata": {},
   "source": [
    "-----------------"
   ]
  },
  {
   "cell_type": "markdown",
   "id": "41b8cb6d-ac03-4d62-93e0-398555d40371",
   "metadata": {},
   "source": [
    "# XGBoost Classification"
   ]
  },
  {
   "cell_type": "code",
   "execution_count": 53,
   "id": "9797a26c-1fb4-40fb-ba63-28ba84253175",
   "metadata": {},
   "outputs": [],
   "source": [
    "import xgboost as xgb\n",
    "from sklearn.datasets import load_iris\n",
    "from sklearn.model_selection import train_test_split\n",
    "from sklearn.metrics import accuracy_score"
   ]
  },
  {
   "cell_type": "code",
   "execution_count": 54,
   "id": "118da04b-9772-4495-abb9-3a7cc3c021ae",
   "metadata": {},
   "outputs": [],
   "source": [
    "data = load_iris()\n",
    "x , y = data.data, data.target"
   ]
  },
  {
   "cell_type": "code",
   "execution_count": 55,
   "id": "40a635fa-dcf0-4bee-b153-587b6849af80",
   "metadata": {},
   "outputs": [],
   "source": [
    "x_train, x_test, y_train, y_test = train_test_split(x, y, test_size=0.2, random_state=42)"
   ]
  },
  {
   "cell_type": "code",
   "execution_count": 56,
   "id": "4928861c-e0dd-4f2c-a371-afb67614ed33",
   "metadata": {},
   "outputs": [],
   "source": [
    "dtrain = xgb.DMatrix(x_train, label=y_train)\n",
    "dtest = xgb.DMatrix(x_test, label=y_test)"
   ]
  },
  {
   "cell_type": "code",
   "execution_count": 57,
   "id": "17393f7a-8458-401b-a2b3-ca32c8b29e11",
   "metadata": {},
   "outputs": [],
   "source": [
    "params = {\n",
    "    'objective' : 'multi:softmax',\n",
    "    'num_class' : 3,\n",
    "    'max_detph' : 3, \n",
    "    'eta' : 0.1\n",
    "}"
   ]
  },
  {
   "cell_type": "code",
   "execution_count": 58,
   "id": "c39e63d0-4345-478b-9cea-b0257f48c9f3",
   "metadata": {},
   "outputs": [
    {
     "name": "stderr",
     "output_type": "stream",
     "text": [
      "/home/sumeet/code/MachineLearningProjects/lib/python3.12/site-packages/xgboost/core.py:158: UserWarning: [06:34:19] WARNING: /workspace/src/learner.cc:740: \n",
      "Parameters: { \"max_detph\" } are not used.\n",
      "\n",
      "  warnings.warn(smsg, UserWarning)\n"
     ]
    }
   ],
   "source": [
    "model = xgb.train(params, dtrain,num_boost_round=100)"
   ]
  },
  {
   "cell_type": "code",
   "execution_count": 60,
   "id": "41bc8ec3-8112-4db8-95aa-4406f257373f",
   "metadata": {},
   "outputs": [],
   "source": [
    "preds = model.predict(dtest)"
   ]
  },
  {
   "cell_type": "code",
   "execution_count": 62,
   "id": "6b2b3ca6-0338-4793-bbba-1082fa4c90fe",
   "metadata": {},
   "outputs": [
    {
     "data": {
      "text/plain": [
       "1.0"
      ]
     },
     "execution_count": 62,
     "metadata": {},
     "output_type": "execute_result"
    }
   ],
   "source": [
    "accuracy = accuracy_score(y_test, preds)\n",
    "accuracy"
   ]
  },
  {
   "cell_type": "code",
   "execution_count": null,
   "id": "b1a3518e-0ee9-4d1f-8f93-223d8bb55b6c",
   "metadata": {},
   "outputs": [],
   "source": []
  }
 ],
 "metadata": {
  "kernelspec": {
   "display_name": "ml",
   "language": "python",
   "name": "ml"
  },
  "language_info": {
   "codemirror_mode": {
    "name": "ipython",
    "version": 3
   },
   "file_extension": ".py",
   "mimetype": "text/x-python",
   "name": "python",
   "nbconvert_exporter": "python",
   "pygments_lexer": "ipython3",
   "version": "3.12.4"
  }
 },
 "nbformat": 4,
 "nbformat_minor": 5
}
