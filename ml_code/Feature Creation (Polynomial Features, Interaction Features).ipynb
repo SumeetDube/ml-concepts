{
 "cells": [
  {
   "cell_type": "code",
   "execution_count": 2,
   "id": "97db91ef-0772-443d-8d79-d726b7be7f61",
   "metadata": {},
   "outputs": [
    {
     "name": "stdout",
     "output_type": "stream",
     "text": [
      "[[ 1.  2.  3.  4.  6.  9.]\n",
      " [ 1.  3.  5.  9. 15. 25.]\n",
      " [ 1.  5.  7. 25. 35. 49.]]\n"
     ]
    }
   ],
   "source": [
    "# Polynomial Feature\n",
    "from sklearn.preprocessing import PolynomialFeatures\n",
    "import numpy as np\n",
    "\n",
    "x = np.array([[2,3],[3,5],[5,7]])\n",
    "poly = PolynomialFeatures(degree=2)\n",
    "x_poly = poly.fit_transform(x)\n",
    "print(x_poly)"
   ]
  },
  {
   "cell_type": "code",
   "execution_count": 18,
   "id": "831451c3-9f30-443b-968c-098b236fd215",
   "metadata": {},
   "outputs": [
    {
     "data": {
      "image/png": "[encoded data removed]",
      "text/plain": [
       "<Figure size 1000x600 with 1 Axes>"
      ]
     },
     "metadata": {},
     "output_type": "display_data"
    }
   ],
   "source": [
    "plt.figure(figsize=(10,6))\n",
    "plt.scatter(x_poly[0],x_poly[1],x_poly[2],color='purple',alpha=0.6)\n",
    "plt.show()"
   ]
  },
  {
   "cell_type": "code",
   "execution_count": 29,
   "id": "ecc72ec4-1dde-4491-a877-1ecb0c6be6d1",
   "metadata": {},
   "outputs": [
    {
     "data": {
      "text/plain": [
       "array([[2, 3],\n",
       "       [3, 5],\n",
       "       [5, 7]])"
      ]
     },
     "execution_count": 29,
     "metadata": {},
     "output_type": "execute_result"
    }
   ],
   "source": [
    "from sklearn.preprocessing import PolynomialFeatures\n",
    "import numpy as np\n",
    "\n",
    "x = np.array([[2, 3], [3, 5], [5, 7]])\n",
    "poly = PolynomialFeatures(degree=2)\n",
    "x_poly = poly.fit_transform(x)\n",
    "#print(x_poly)\n",
    "x"
   ]
  },
  {
   "cell_type": "code",
   "execution_count": 31,
   "id": "0283b679-d091-49fe-b739-19335f804adf",
   "metadata": {},
   "outputs": [
    {
     "name": "stdout",
     "output_type": "stream",
     "text": [
      "[[ 1.  2.  3.  4.  6.  9.]\n",
      " [ 1.  3.  5.  9. 15. 25.]\n",
      " [ 1.  5.  7. 25. 35. 49.]]\n"
     ]
    }
   ],
   "source": [
    "print(x_poly)"
   ]
  },
  {
   "cell_type": "code",
   "execution_count": 32,
   "id": "449575e4-bcfb-47f5-a0fc-86cfbeec32c8",
   "metadata": {},
   "outputs": [
    {
     "name": "stdout",
     "output_type": "stream",
     "text": [
      "[[ 1.  2.  3.  6.]\n",
      " [ 1.  3.  5. 15.]\n",
      " [ 1.  5.  7. 35.]]\n"
     ]
    }
   ],
   "source": [
    "# Interaction Features\n",
    "\n",
    "from sklearn.preprocessing import PolynomialFeatures\n",
    "import numpy as np\n",
    "\n",
    "x = np.array([[2, 3], [3, 5], [5, 7]])\n",
    "poly = PolynomialFeatures(degree=2,interaction_only=True)\n",
    "x_int = poly.fit_transform(x)\n",
    "print(x_int)"
   ]
  },
  {
   "cell_type": "markdown",
   "id": "5b83f781-bd99-404b-b597-af630ac3e79b",
   "metadata": {},
   "source": [
    "X -> x^2 \n",
    "\n",
    "x y -> x*y feature engineering\n"
   ]
  },
  {
   "cell_type": "code",
   "execution_count": 36,
   "id": "9baad643-cc02-49b6-a0a7-596228f8a543",
   "metadata": {},
   "outputs": [
    {
     "data": {
      "text/plain": [
       "array([[2, 3],\n",
       "       [3, 5],\n",
       "       [5, 7]])"
      ]
     },
     "execution_count": 36,
     "metadata": {},
     "output_type": "execute_result"
    }
   ],
   "source": [
    "import numpy as np\n",
    "from sklearn.preprocessing import PolynomialFeatures\n",
    "\n",
    "x =  np.array([[2, 3], [3, 5], [5, 7]])\n",
    "\n",
    "poly = PolynomialFeatures(degree=2)\n",
    "x_new = poly.fit_transform(x)\n",
    "x"
   ]
  },
  {
   "cell_type": "code",
   "execution_count": 37,
   "id": "c8459535-ed75-4833-bbe3-8f9962fbfdf9",
   "metadata": {},
   "outputs": [
    {
     "data": {
      "text/plain": [
       "array([[ 1.,  2.,  3.,  4.,  6.,  9.],\n",
       "       [ 1.,  3.,  5.,  9., 15., 25.],\n",
       "       [ 1.,  5.,  7., 25., 35., 49.]])"
      ]
     },
     "execution_count": 37,
     "metadata": {},
     "output_type": "execute_result"
    }
   ],
   "source": [
    "x_new"
   ]
  },
  {
   "cell_type": "code",
   "execution_count": 38,
   "id": "35dcdea1-0b3f-4dd6-b4d1-aa02e8879622",
   "metadata": {},
   "outputs": [
    {
     "data": {
      "text/plain": [
       "array([[ 1.,  2.,  3.,  6.],\n",
       "       [ 1.,  3.,  5., 15.],\n",
       "       [ 1.,  5.,  7., 35.]])"
      ]
     },
     "execution_count": 38,
     "metadata": {},
     "output_type": "execute_result"
    }
   ],
   "source": [
    "import numpy as np\n",
    "from sklearn.preprocessing import PolynomialFeatures\n",
    "\n",
    "x = np.array([[2, 3], [3, 5], [5, 7]])\n",
    "poly = PolynomialFeatures(degree=2, interaction_only=True)\n",
    "x_int = poly.fit_transform(x)\n",
    "x_int"
   ]
  },
  {
   "cell_type": "code",
   "execution_count": null,
   "id": "e973cc55-f5a0-4703-8135-79e06b9da140",
   "metadata": {},
   "outputs": [],
   "source": []
  }
 ],
 "metadata": {
  "kernelspec": {
   "display_name": "Python 3 (ipykernel)",
   "language": "python",
   "name": "python3"
  },
  "language_info": {
   "codemirror_mode": {
    "name": "ipython",
    "version": 3
   },
   "file_extension": ".py",
   "mimetype": "text/x-python",
   "name": "python",
   "nbconvert_exporter": "python",
   "pygments_lexer": "ipython3",
   "version": "3.12.4"
  }
 },
 "nbformat": 4,
 "nbformat_minor": 5
}
