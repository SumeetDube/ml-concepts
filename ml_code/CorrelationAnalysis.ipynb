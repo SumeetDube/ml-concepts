{
 "cells": [
  {
   "cell_type": "code",
   "execution_count": 5,
   "id": "77dfaea9-7404-48ea-afff-c8931a4d118b",
   "metadata": {},
   "outputs": [],
   "source": [
    "import numpy as np\n",
    "import matplotlib.pyplot as plt"
   ]
  },
  {
   "cell_type": "code",
   "execution_count": 2,
   "id": "01db4e4b-259f-4d8a-9fae-31b3c8b5480b",
   "metadata": {},
   "outputs": [],
   "source": [
    "x = np.array([10, 11, 12, 13, 14, 15, 16, 17, 18, 19]) \n",
    "y = np.array([2, 1, 4, 5, 8, 12, 18, 25, 96, 48])\n",
    "\n",
    "corr_matrix = np.corrcoef(x,y)"
   ]
  },
  {
   "cell_type": "code",
   "execution_count": 3,
   "id": "b330a6c3-8b9d-460e-8b84-b35bfa905d11",
   "metadata": {},
   "outputs": [],
   "source": [
    "corr_coef= corr_matrix[0,1]"
   ]
  },
  {
   "cell_type": "code",
   "execution_count": 14,
   "id": "acb5d310-a67e-442d-81c2-03b7223ee0ec",
   "metadata": {},
   "outputs": [
    {
     "name": "stdout",
     "output_type": "stream",
     "text": [
      "     A    B    C\n",
      "A  1.0  1.0  1.0\n",
      "B  1.0  1.0  1.0\n",
      "C  1.0  1.0  1.0\n"
     ]
    }
   ],
   "source": [
    "import pandas as pd\n",
    "\n",
    "# Create sample DataFrame \n",
    "data = {'A': [1, 2, 3], 'B': [4, 5, 6], 'C': [7, 8, 9]}\n",
    "df = pd.DataFrame(data)\n",
    "\n",
    "# Calculate correlation matrix\n",
    "corr_matrix = df.corr()\n",
    "\n",
    "print(corr_matrix)"
   ]
  },
  {
   "cell_type": "code",
   "execution_count": null,
   "id": "0d810644-ea4d-423c-a3d0-29cb2638bd90",
   "metadata": {},
   "outputs": [],
   "source": [
    "import pandas as pd\n",
    "\n",
    "# Sample data\n",
    "data = {\n",
    "    'Feature1': [1, 2, 3, 4, 5],\n",
    "    'Feature2': [2, 3, 4, 5, 6],\n",
    "    'Feature3': [5, 4, 3, 2, 1],\n",
    "    'Target': [1, 2, 3, 4, 5]\n",
    "}\n",
    "\n",
    "# Create a DataFrame\n",
    "df = pd.DataFrame(data)\n",
    "\n",
    "# Calculate the correlation matrix\n",
    "correlation_matrix = df.corr()\n",
    "\n",
    "print(\"Correlation Matrix:\")\n",
    "print(correlation_matrix)"
   ]
  }
 ],
 "metadata": {
  "kernelspec": {
   "display_name": "Python 3 (ipykernel)",
   "language": "python",
   "name": "python3"
  },
  "language_info": {
   "codemirror_mode": {
    "name": "ipython",
    "version": 3
   },
   "file_extension": ".py",
   "mimetype": "text/x-python",
   "name": "python",
   "nbconvert_exporter": "python",
   "pygments_lexer": "ipython3",
   "version": "3.12.4"
  }
 },
 "nbformat": 4,
 "nbformat_minor": 5
}
