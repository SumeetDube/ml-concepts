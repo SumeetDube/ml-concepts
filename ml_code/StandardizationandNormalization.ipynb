{
 "cells": [
  {
   "cell_type": "markdown",
   "id": "835f6032-e4fd-4252-b135-b8a340a44840",
   "metadata": {},
   "source": [
    "# Normalization"
   ]
  },
  {
   "cell_type": "code",
   "execution_count": 8,
   "id": "f7d24046-c058-43db-9fad-f62cf6c953c3",
   "metadata": {},
   "outputs": [
    {
     "name": "stdout",
     "output_type": "stream",
     "text": [
      "Normalized data:\n",
      " [[0.  0.  0. ]\n",
      " [0.5 0.5 0.5]\n",
      " [1.  1.  1. ]]\n"
     ]
    }
   ],
   "source": [
    "import numpy as np # range is constrained between  0 and 1\n",
    "from sklearn.preprocessing import MinMaxScaler\n",
    "\n",
    "data = np.array([[1,2,3],[4,5,6],[7,8,9]])\n",
    "\n",
    "scaler = MinMaxScaler()\n",
    "\n",
    "normalized = scaler.fit_transform(data)\n",
    "\n",
    "print(f'Normalized data:\\n {normalized}')"
   ]
  },
  {
   "cell_type": "markdown",
   "id": "058b2233-c1da-4d5e-82de-9e9e3874b658",
   "metadata": {},
   "source": [
    "# Standardization"
   ]
  },
  {
   "cell_type": "code",
   "execution_count": 9,
   "id": "cb54c0be-0ef4-43ca-a175-9997918f2c5c",
   "metadata": {},
   "outputs": [
    {
     "name": "stdout",
     "output_type": "stream",
     "text": [
      "standar data \n",
      " [[-1.22474487 -1.22474487 -1.22474487]\n",
      " [ 0.          0.          0.        ]\n",
      " [ 1.22474487  1.22474487  1.22474487]]\n"
     ]
    }
   ],
   "source": [
    "import numpy as np # range is constrained\n",
    "from sklearn.preprocessing import StandardScaler\n",
    "\n",
    "data = np.array([[1,2,3],\n",
    "                 [4,5,6],\n",
    "                 [7,8,9]])\n",
    "\n",
    "scaler = StandardScaler()\n",
    "standard_data = scaler.fit_transform(data)\n",
    "print(\"standar data \\n\", standard_data)"
   ]
  },
  {
   "cell_type": "code",
   "execution_count": null,
   "id": "bf9b084d-179a-43ca-bf33-117c193b64fb",
   "metadata": {},
   "outputs": [],
   "source": []
  }
 ],
 "metadata": {
  "kernelspec": {
   "display_name": "Python 3 (ipykernel)",
   "language": "python",
   "name": "python3"
  },
  "language_info": {
   "codemirror_mode": {
    "name": "ipython",
    "version": 3
   },
   "file_extension": ".py",
   "mimetype": "text/x-python",
   "name": "python",
   "nbconvert_exporter": "python",
   "pygments_lexer": "ipython3",
   "version": "3.12.4"
  }
 },
 "nbformat": 4,
 "nbformat_minor": 5
}
