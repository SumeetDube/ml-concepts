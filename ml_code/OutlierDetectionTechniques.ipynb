{
 "cells": [
  {
   "cell_type": "markdown",
   "id": "16b8c10f-3857-4467-a5bd-8511af5ce94e",
   "metadata": {},
   "source": [
    "# Outlier Detection Techniques\n",
    "Outlier detection and treatment are crucial steps in the data preprocessing stage of machine learning to ensure model accuracy and reliability.\n",
    "\n",
    "### Outlier Detection Techniques\n",
    "\n",
    "1. **Statistical Methods:**\n",
    "   - **Z-Score:** Measures how many standard deviations a data point is from the mean. A common threshold is 3 or -3.\n",
    "   - **Modified Z-Score:** Uses the median and median absolute deviation for robust detection, especially useful for skewed distributions.\n",
    "   - **IQR (Interquartile Range):** Points beyond \\(1.5 \\times IQR\\) from the first and third quartiles are considered outliers.\n",
    "\n",
    "2. **Visualization Techniques:**\n",
    "   - **Box Plot:** Visual representation using quartiles to identify outliers as points outside the whiskers.\n",
    "   - **Scatter Plot:** Visual inspection can reveal outliers, especially in two-dimensional data.\n",
    "   - **Histogram:** Shows the distribution of data and highlights unusually distant values.\n",
    "\n",
    "3. **Model-Based Methods:**\n",
    "   - **Isolation Forest:** Identifies anomalies by isolating observations, working well with high-dimensional data.\n",
    "   - **One-Class SVM:** Classifies data into normal or outlier by finding a boundary that separates the majority of data points.\n",
    "   - **Autoencoders:** Neural networks that reconstruct input data; high reconstruction error may indicate outliers.\n",
    "\n",
    "4. **Distance-Based Methods:**\n",
    "   - **k-Nearest Neighbors (k-NN):** Points with a large average distance to their nearest neighbors are considered outliers.\n",
    "   - **Local Outlier Factor (LOF):** Measures the local density deviation of a data point relative to its neighbors.\n",
    "\n",
    "5. **Clustering-Based Methods:**\n",
    "   - **DBSCAN (Density-Based Spatial Clustering of Applications with Noise):** Identifies outliers as points that do not fit well into any cluster.\n",
    "   - **K-Means:** Points that are far from any cluster centroid can be considered outliers.\n"
   ]
  },
  {
   "cell_type": "markdown",
   "id": "25d40883-ea06-4df6-904d-35fa68cee107",
   "metadata": {},
   "source": [
    "# Statistical Methods\n",
    "## 1.  Z-Score"
   ]
  },
  {
   "cell_type": "code",
   "execution_count": 17,
   "id": "24fd9fe4-92c0-4621-83d1-24d918c6ffa9",
   "metadata": {},
   "outputs": [
    {
     "name": "stdout",
     "output_type": "stream",
     "text": [
      "       values  Numbers   z_score\n",
      "53  -2.564520       53 -2.588161\n",
      "67  -3.105904       67 -3.127240\n",
      "90   2.870520       90  2.823737\n",
      "162 -2.869455      162 -2.891798\n",
      "170 -2.657589      170 -2.680834\n",
      "379  2.658318      379  2.612439\n",
      "430  3.151296      430  3.103318\n",
      "438  2.616071      438  2.570372\n",
      "707  2.927549      707  2.880524\n",
      "731  2.666938      731  2.621023\n",
      "777  2.595703      777  2.550091\n",
      "840  3.104027      840  3.056250\n",
      "914  2.619865      914  2.574150\n"
     ]
    }
   ],
   "source": [
    "import numpy as np\n",
    "import pandas as pd\n",
    "\n",
    "data = pd.DataFrame({'values': np.random.normal(0,1,1000),\n",
    "                    'Numbers': [x for x in range(1000)]})\n",
    "# Calculate z score\n",
    "data['z_score'] = (data['values'] - data['values'].mean())/data['values'].std()\n",
    "outliers = data[np.abs(data['z_score']) > 2.5]\n",
    "print(outliers)\n"
   ]
  },
  {
   "cell_type": "markdown",
   "id": "a3e92e6a-b4f8-48b4-880b-2e65b8cae092",
   "metadata": {},
   "source": [
    "# IQR (Interquartile Range)"
   ]
  },
  {
   "cell_type": "code",
   "execution_count": 28,
   "id": "b4485b3e-3149-4ee0-a141-1aec4b1c9240",
   "metadata": {},
   "outputs": [
    {
     "name": "stdout",
     "output_type": "stream",
     "text": [
      "       values  Numbers   z_score\n",
      "2   -1.329154        2 -1.358056\n",
      "3    0.434679        3  0.398267\n",
      "5    0.602661        5  0.565535\n",
      "7    2.182073        7  2.138222\n",
      "9    0.095496        9  0.060529\n",
      "..        ...      ...       ...\n",
      "992  1.960715      992  1.917806\n",
      "993  1.225834      993  1.186054\n",
      "995 -1.704653      995 -1.731955\n",
      "998  1.493921      998  1.453000\n",
      "999  0.153845      999  0.118630\n",
      "\n",
      "[613 rows x 3 columns]\n"
     ]
    }
   ],
   "source": [
    "Q1 = data['values'].quantile(0.25)\n",
    "Q3 = data['values'].quantile(0.75)\n",
    "\n",
    "IQR = Q3 - Q1\n",
    "\n",
    "# Define the outlier criteria\n",
    "lower_bound = Q1 - 0.5 * IQR\n",
    "upper_bound = Q3 - 0.5 * IQR\n",
    "outliers = data[(data['values'] < lower_bound) | (data['values'] > upper_bound)]\n",
    "print(outliers)"
   ]
  },
  {
   "cell_type": "markdown",
   "id": "136d61a7-5d39-40a9-82a9-5a183054786b",
   "metadata": {},
   "source": [
    "# Visualiztion Technqiues"
   ]
  },
  {
   "cell_type": "markdown",
   "id": "37bd5121-fbad-4964-be1d-092bc2aa094b",
   "metadata": {},
   "source": [
    "## Bounding Box"
   ]
  },
  {
   "cell_type": "code",
   "execution_count": 43,
   "id": "4a3857de-dd18-46cc-9881-03be24ab65df",
   "metadata": {},
   "outputs": [
    {
     "data": {
      "image/png": "[encoded data removed]",
      "text/plain": [
       "<Figure size 640x480 with 1 Axes>"
      ]
     },
     "metadata": {},
     "output_type": "display_data"
    }
   ],
   "source": [
    "import matplotlib.pyplot as plt\n",
    "plt.hist(data['values'])\n",
    "plt.show()"
   ]
  },
  {
   "cell_type": "markdown",
   "id": "e07fd1b7-d817-471e-bb9e-daff42f3e294",
   "metadata": {},
   "source": [
    "# Model Based methods"
   ]
  },
  {
   "cell_type": "code",
   "execution_count": 46,
   "id": "e1955b44-562e-41ac-9f5c-3a081d83013f",
   "metadata": {},
   "outputs": [
    {
     "name": "stdout",
     "output_type": "stream",
     "text": [
      "       values  Numbers   z_score  outlier\n",
      "53  -2.564520       53 -2.588161       -1\n",
      "67  -3.105904       67 -3.127240       -1\n",
      "90   2.870520       90  2.823737       -1\n",
      "162 -2.869455      162 -2.891798       -1\n",
      "170 -2.657589      170 -2.680834       -1\n",
      "430  3.151296      430  3.103318       -1\n",
      "672 -2.431755      672 -2.455962       -1\n",
      "707  2.927549      707  2.880524       -1\n",
      "840  3.104027      840  3.056250       -1\n"
     ]
    }
   ],
   "source": [
    "from sklearn.ensemble import IsolationForest\n",
    "\n",
    "iso = IsolationForest(contamination=0.01)\n",
    "\n",
    "data['outlier'] = iso.fit_predict(data[['values']])\n",
    "\n",
    "outliers = data[data['outlier'] == -1]\n",
    "print(outliers)"
   ]
  },
  {
   "cell_type": "code",
   "execution_count": 50,
   "id": "fc65f5f0-2a0e-43fd-a34e-a160f01f4188",
   "metadata": {},
   "outputs": [
    {
     "name": "stdout",
     "output_type": "stream",
     "text": [
      "       values  Numbers   z_score  outlier\n",
      "53  -2.564520       53 -2.588161       -1\n",
      "67  -3.105904       67 -3.127240       -1\n",
      "90   2.870520       90  2.823737       -1\n",
      "162 -2.869455      162 -2.891798       -1\n",
      "170 -2.657589      170 -2.680834       -1\n",
      "379  2.658318      379  2.612439       -1\n",
      "430  3.151296      430  3.103318       -1\n",
      "438  2.616071      438  2.570372       -1\n",
      "446 -2.380504      446 -2.404928       -1\n",
      "458 -2.341317      458 -2.365908       -1\n",
      "523  2.530355      523  2.485021       -1\n",
      "666 -2.340829      666 -2.365423       -1\n",
      "672 -2.431755      672 -2.455962       -1\n",
      "674  2.440515      674  2.395564       -1\n",
      "707  2.927549      707  2.880524       -1\n",
      "731  2.666938      731  2.621023       -1\n",
      "763  2.401186      763  2.356402       -1\n",
      "777  2.595703      777  2.550091       -1\n",
      "840  3.104027      840  3.056250       -1\n",
      "914  2.619865      914  2.574150       -1\n"
     ]
    }
   ],
   "source": [
    "# Distance Based methods\n",
    "\n",
    "from sklearn.neighbors import LocalOutlierFactor\n",
    "lof = LocalOutlierFactor()\n",
    "data['outlier'] = lof.fit_predict(data[['values']])\n",
    "\n",
    "outliers = data[data['outlier'] == -1]\n",
    "\n",
    "print(outliers)"
   ]
  },
  {
   "cell_type": "code",
   "execution_count": null,
   "id": "a89f3db5-cdb5-4586-bcae-8cc34f542d63",
   "metadata": {},
   "outputs": [],
   "source": []
  }
 ],
 "metadata": {
  "kernelspec": {
   "display_name": "Python 3 (ipykernel)",
   "language": "python",
   "name": "python3"
  },
  "language_info": {
   "codemirror_mode": {
    "name": "ipython",
    "version": 3
   },
   "file_extension": ".py",
   "mimetype": "text/x-python",
   "name": "python",
   "nbconvert_exporter": "python",
   "pygments_lexer": "ipython3",
   "version": "3.12.4"
  }
 },
 "nbformat": 4,
 "nbformat_minor": 5
}
